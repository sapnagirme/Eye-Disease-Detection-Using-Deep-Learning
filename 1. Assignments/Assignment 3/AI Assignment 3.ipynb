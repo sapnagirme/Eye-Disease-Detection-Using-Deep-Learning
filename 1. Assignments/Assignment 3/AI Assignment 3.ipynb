{
 "cells": [
  {
   "cell_type": "markdown",
   "id": "31ea7c2a",
   "metadata": {},
   "source": [
    "### Student Name : Sapna Girme"
   ]
  },
  {
   "cell_type": "markdown",
   "id": "af44dec0",
   "metadata": {},
   "source": [
    "#### AI ASSIGNMENT 3"
   ]
  },
  {
   "cell_type": "markdown",
   "id": "e92a877a",
   "metadata": {},
   "source": [
    "## Build an ANN model for Drug classification."
   ]
  },
  {
   "cell_type": "markdown",
   "id": "f5b07321",
   "metadata": {},
   "source": [
    "# Data Preprocessing"
   ]
  },
  {
   "cell_type": "code",
   "execution_count": 1,
   "id": "95098a6f",
   "metadata": {},
   "outputs": [],
   "source": [
    "#import required lib\n",
    "import numpy as np\n",
    "import pandas as pd"
   ]
  },
  {
   "cell_type": "code",
   "execution_count": 2,
   "id": "d4b79ae4",
   "metadata": {},
   "outputs": [],
   "source": [
    "df=pd.read_csv('drug200.csv')"
   ]
  },
  {
   "cell_type": "code",
   "execution_count": 3,
   "id": "3a7fcbba",
   "metadata": {},
   "outputs": [
    {
     "data": {
      "text/html": [
       "<div>\n",
       "<style scoped>\n",
       "    .dataframe tbody tr th:only-of-type {\n",
       "        vertical-align: middle;\n",
       "    }\n",
       "\n",
       "    .dataframe tbody tr th {\n",
       "        vertical-align: top;\n",
       "    }\n",
       "\n",
       "    .dataframe thead th {\n",
       "        text-align: right;\n",
       "    }\n",
       "</style>\n",
       "<table border=\"1\" class=\"dataframe\">\n",
       "  <thead>\n",
       "    <tr style=\"text-align: right;\">\n",
       "      <th></th>\n",
       "      <th>Age</th>\n",
       "      <th>Sex</th>\n",
       "      <th>BP</th>\n",
       "      <th>Cholesterol</th>\n",
       "      <th>Na_to_K</th>\n",
       "      <th>Drug</th>\n",
       "    </tr>\n",
       "  </thead>\n",
       "  <tbody>\n",
       "    <tr>\n",
       "      <th>0</th>\n",
       "      <td>23</td>\n",
       "      <td>F</td>\n",
       "      <td>HIGH</td>\n",
       "      <td>HIGH</td>\n",
       "      <td>25.355</td>\n",
       "      <td>DrugY</td>\n",
       "    </tr>\n",
       "    <tr>\n",
       "      <th>1</th>\n",
       "      <td>47</td>\n",
       "      <td>M</td>\n",
       "      <td>LOW</td>\n",
       "      <td>HIGH</td>\n",
       "      <td>13.093</td>\n",
       "      <td>drugC</td>\n",
       "    </tr>\n",
       "    <tr>\n",
       "      <th>2</th>\n",
       "      <td>47</td>\n",
       "      <td>M</td>\n",
       "      <td>LOW</td>\n",
       "      <td>HIGH</td>\n",
       "      <td>10.114</td>\n",
       "      <td>drugC</td>\n",
       "    </tr>\n",
       "    <tr>\n",
       "      <th>3</th>\n",
       "      <td>28</td>\n",
       "      <td>F</td>\n",
       "      <td>NORMAL</td>\n",
       "      <td>HIGH</td>\n",
       "      <td>7.798</td>\n",
       "      <td>drugX</td>\n",
       "    </tr>\n",
       "    <tr>\n",
       "      <th>4</th>\n",
       "      <td>61</td>\n",
       "      <td>F</td>\n",
       "      <td>LOW</td>\n",
       "      <td>HIGH</td>\n",
       "      <td>18.043</td>\n",
       "      <td>DrugY</td>\n",
       "    </tr>\n",
       "  </tbody>\n",
       "</table>\n",
       "</div>"
      ],
      "text/plain": [
       "   Age Sex      BP Cholesterol  Na_to_K   Drug\n",
       "0   23   F    HIGH        HIGH   25.355  DrugY\n",
       "1   47   M     LOW        HIGH   13.093  drugC\n",
       "2   47   M     LOW        HIGH   10.114  drugC\n",
       "3   28   F  NORMAL        HIGH    7.798  drugX\n",
       "4   61   F     LOW        HIGH   18.043  DrugY"
      ]
     },
     "execution_count": 3,
     "metadata": {},
     "output_type": "execute_result"
    }
   ],
   "source": [
    "df.head()"
   ]
  },
  {
   "cell_type": "code",
   "execution_count": 4,
   "id": "2b7d06e2",
   "metadata": {},
   "outputs": [
    {
     "data": {
      "text/plain": [
       "(200, 6)"
      ]
     },
     "execution_count": 4,
     "metadata": {},
     "output_type": "execute_result"
    }
   ],
   "source": [
    "df.shape"
   ]
  },
  {
   "cell_type": "code",
   "execution_count": 5,
   "id": "1e55944b",
   "metadata": {},
   "outputs": [
    {
     "name": "stdout",
     "output_type": "stream",
     "text": [
      "<class 'pandas.core.frame.DataFrame'>\n",
      "RangeIndex: 200 entries, 0 to 199\n",
      "Data columns (total 6 columns):\n",
      " #   Column       Non-Null Count  Dtype  \n",
      "---  ------       --------------  -----  \n",
      " 0   Age          200 non-null    int64  \n",
      " 1   Sex          200 non-null    object \n",
      " 2   BP           200 non-null    object \n",
      " 3   Cholesterol  200 non-null    object \n",
      " 4   Na_to_K      200 non-null    float64\n",
      " 5   Drug         200 non-null    object \n",
      "dtypes: float64(1), int64(1), object(4)\n",
      "memory usage: 9.5+ KB\n"
     ]
    }
   ],
   "source": [
    "df.info()"
   ]
  },
  {
   "cell_type": "code",
   "execution_count": 6,
   "id": "e744e60f",
   "metadata": {},
   "outputs": [
    {
     "data": {
      "text/plain": [
       "Age            0\n",
       "Sex            0\n",
       "BP             0\n",
       "Cholesterol    0\n",
       "Na_to_K        0\n",
       "Drug           0\n",
       "dtype: int64"
      ]
     },
     "execution_count": 6,
     "metadata": {},
     "output_type": "execute_result"
    }
   ],
   "source": [
    "df.isnull().sum()"
   ]
  },
  {
   "cell_type": "code",
   "execution_count": 7,
   "id": "5b445df7",
   "metadata": {},
   "outputs": [
    {
     "data": {
      "text/html": [
       "<div>\n",
       "<style scoped>\n",
       "    .dataframe tbody tr th:only-of-type {\n",
       "        vertical-align: middle;\n",
       "    }\n",
       "\n",
       "    .dataframe tbody tr th {\n",
       "        vertical-align: top;\n",
       "    }\n",
       "\n",
       "    .dataframe thead th {\n",
       "        text-align: right;\n",
       "    }\n",
       "</style>\n",
       "<table border=\"1\" class=\"dataframe\">\n",
       "  <thead>\n",
       "    <tr style=\"text-align: right;\">\n",
       "      <th></th>\n",
       "      <th>Age</th>\n",
       "      <th>Sex</th>\n",
       "      <th>BP</th>\n",
       "      <th>Cholesterol</th>\n",
       "      <th>Na_to_K</th>\n",
       "      <th>Drug</th>\n",
       "    </tr>\n",
       "  </thead>\n",
       "  <tbody>\n",
       "    <tr>\n",
       "      <th>0</th>\n",
       "      <td>23</td>\n",
       "      <td>F</td>\n",
       "      <td>HIGH</td>\n",
       "      <td>HIGH</td>\n",
       "      <td>25.355</td>\n",
       "      <td>DrugY</td>\n",
       "    </tr>\n",
       "    <tr>\n",
       "      <th>1</th>\n",
       "      <td>47</td>\n",
       "      <td>M</td>\n",
       "      <td>LOW</td>\n",
       "      <td>HIGH</td>\n",
       "      <td>13.093</td>\n",
       "      <td>drugC</td>\n",
       "    </tr>\n",
       "    <tr>\n",
       "      <th>2</th>\n",
       "      <td>47</td>\n",
       "      <td>M</td>\n",
       "      <td>LOW</td>\n",
       "      <td>HIGH</td>\n",
       "      <td>10.114</td>\n",
       "      <td>drugC</td>\n",
       "    </tr>\n",
       "    <tr>\n",
       "      <th>3</th>\n",
       "      <td>28</td>\n",
       "      <td>F</td>\n",
       "      <td>NORMAL</td>\n",
       "      <td>HIGH</td>\n",
       "      <td>7.798</td>\n",
       "      <td>drugX</td>\n",
       "    </tr>\n",
       "    <tr>\n",
       "      <th>4</th>\n",
       "      <td>61</td>\n",
       "      <td>F</td>\n",
       "      <td>LOW</td>\n",
       "      <td>HIGH</td>\n",
       "      <td>18.043</td>\n",
       "      <td>DrugY</td>\n",
       "    </tr>\n",
       "  </tbody>\n",
       "</table>\n",
       "</div>"
      ],
      "text/plain": [
       "   Age Sex      BP Cholesterol  Na_to_K   Drug\n",
       "0   23   F    HIGH        HIGH   25.355  DrugY\n",
       "1   47   M     LOW        HIGH   13.093  drugC\n",
       "2   47   M     LOW        HIGH   10.114  drugC\n",
       "3   28   F  NORMAL        HIGH    7.798  drugX\n",
       "4   61   F     LOW        HIGH   18.043  DrugY"
      ]
     },
     "execution_count": 7,
     "metadata": {},
     "output_type": "execute_result"
    }
   ],
   "source": [
    "df.head()"
   ]
  },
  {
   "cell_type": "markdown",
   "id": "04b125cd",
   "metadata": {},
   "source": [
    "## Visualizations"
   ]
  },
  {
   "cell_type": "code",
   "execution_count": 11,
   "id": "8660e683",
   "metadata": {},
   "outputs": [
    {
     "name": "stderr",
     "output_type": "stream",
     "text": [
      "C:\\Users\\sapna\\AppData\\Local\\Temp\\ipykernel_137564\\2262716150.py:4: FutureWarning: \n",
      "\n",
      "Passing `palette` without assigning `hue` is deprecated and will be removed in v0.14.0. Assign the `x` variable to `hue` and set `legend=False` for the same effect.\n",
      "\n",
      "  sns.countplot(x=df['BP'], palette='bright')\n"
     ]
    },
    {
     "data": {
      "image/png": "[encoded data removed]",
      "text/plain": [
       "<Figure size 600x400 with 1 Axes>"
      ]
     },
     "metadata": {},
     "output_type": "display_data"
    }
   ],
   "source": [
    "import matplotlib.pyplot as plt\n",
    "import seaborn as sns\n",
    "plt.figure(figsize=(6, 4))\n",
    "sns.countplot(x=df['BP'], palette='bright')\n",
    "plt.title('Distribution of Blood Pressure')\n",
    "plt.xlabel('Blood Pressure')\n",
    "plt.ylabel('Count')\n",
    "plt.show()"
   ]
  },
  {
   "cell_type": "code",
   "execution_count": 16,
   "id": "e18016cb",
   "metadata": {},
   "outputs": [
    {
     "name": "stderr",
     "output_type": "stream",
     "text": [
      "C:\\Users\\sapna\\AppData\\Local\\Temp\\ipykernel_137564\\3015763282.py:2: FutureWarning: \n",
      "\n",
      "Passing `palette` without assigning `hue` is deprecated and will be removed in v0.14.0. Assign the `x` variable to `hue` and set `legend=False` for the same effect.\n",
      "\n",
      "  sns.countplot(x=df['Drug'], palette='bright')\n"
     ]
    },
    {
     "data": {
      "image/png": "[encoded data removed]",
      "text/plain": [
       "<Figure size 600x400 with 1 Axes>"
      ]
     },
     "metadata": {},
     "output_type": "display_data"
    }
   ],
   "source": [
    "plt.figure(figsize=(6, 4))\n",
    "sns.countplot(x=df['Drug'], palette='bright')\n",
    "plt.title('Distribution of Drug')\n",
    "plt.xlabel('Drug')\n",
    "plt.ylabel('Count')\n",
    "plt.show()"
   ]
  },
  {
   "cell_type": "code",
   "execution_count": 21,
   "id": "6a9ef4de",
   "metadata": {},
   "outputs": [
    {
     "data": {
      "image/png": "[encoded data removed]",
      "text/plain": [
       "<Figure size 800x500 with 1 Axes>"
      ]
     },
     "metadata": {},
     "output_type": "display_data"
    }
   ],
   "source": [
    "plt.figure(figsize=(8, 5))\n",
    "sns.histplot(df['Na_to_K'], bins=20, kde=True, color='red')\n",
    "plt.title('Distribution of Na_to_K Ratio')\n",
    "plt.xlabel('Na_to_K Ratio')\n",
    "plt.ylabel('Frequency')\n",
    "plt.show()"
   ]
  },
  {
   "cell_type": "code",
   "execution_count": 8,
   "id": "2cd90a92",
   "metadata": {},
   "outputs": [],
   "source": [
    "from sklearn.preprocessing import LabelEncoder\n",
    "le=LabelEncoder()"
   ]
  },
  {
   "cell_type": "code",
   "execution_count": 9,
   "id": "ed8d87f3",
   "metadata": {},
   "outputs": [],
   "source": [
    "df['Sex']=le.fit_transform(df.Sex)\n",
    "df['BP']=le.fit_transform(df.BP)\n",
    "df['Cholesterol']=le.fit_transform(df.Cholesterol)\n",
    "df['Drug']=le.fit_transform(df.Drug)"
   ]
  },
  {
   "cell_type": "code",
   "execution_count": 10,
   "id": "b38a47ca",
   "metadata": {},
   "outputs": [
    {
     "data": {
      "text/html": [
       "<div>\n",
       "<style scoped>\n",
       "    .dataframe tbody tr th:only-of-type {\n",
       "        vertical-align: middle;\n",
       "    }\n",
       "\n",
       "    .dataframe tbody tr th {\n",
       "        vertical-align: top;\n",
       "    }\n",
       "\n",
       "    .dataframe thead th {\n",
       "        text-align: right;\n",
       "    }\n",
       "</style>\n",
       "<table border=\"1\" class=\"dataframe\">\n",
       "  <thead>\n",
       "    <tr style=\"text-align: right;\">\n",
       "      <th></th>\n",
       "      <th>Age</th>\n",
       "      <th>Sex</th>\n",
       "      <th>BP</th>\n",
       "      <th>Cholesterol</th>\n",
       "      <th>Na_to_K</th>\n",
       "      <th>Drug</th>\n",
       "    </tr>\n",
       "  </thead>\n",
       "  <tbody>\n",
       "    <tr>\n",
       "      <th>0</th>\n",
       "      <td>23</td>\n",
       "      <td>0</td>\n",
       "      <td>0</td>\n",
       "      <td>0</td>\n",
       "      <td>25.355</td>\n",
       "      <td>0</td>\n",
       "    </tr>\n",
       "    <tr>\n",
       "      <th>1</th>\n",
       "      <td>47</td>\n",
       "      <td>1</td>\n",
       "      <td>1</td>\n",
       "      <td>0</td>\n",
       "      <td>13.093</td>\n",
       "      <td>3</td>\n",
       "    </tr>\n",
       "    <tr>\n",
       "      <th>2</th>\n",
       "      <td>47</td>\n",
       "      <td>1</td>\n",
       "      <td>1</td>\n",
       "      <td>0</td>\n",
       "      <td>10.114</td>\n",
       "      <td>3</td>\n",
       "    </tr>\n",
       "    <tr>\n",
       "      <th>3</th>\n",
       "      <td>28</td>\n",
       "      <td>0</td>\n",
       "      <td>2</td>\n",
       "      <td>0</td>\n",
       "      <td>7.798</td>\n",
       "      <td>4</td>\n",
       "    </tr>\n",
       "    <tr>\n",
       "      <th>4</th>\n",
       "      <td>61</td>\n",
       "      <td>0</td>\n",
       "      <td>1</td>\n",
       "      <td>0</td>\n",
       "      <td>18.043</td>\n",
       "      <td>0</td>\n",
       "    </tr>\n",
       "  </tbody>\n",
       "</table>\n",
       "</div>"
      ],
      "text/plain": [
       "   Age  Sex  BP  Cholesterol  Na_to_K  Drug\n",
       "0   23    0   0            0   25.355     0\n",
       "1   47    1   1            0   13.093     3\n",
       "2   47    1   1            0   10.114     3\n",
       "3   28    0   2            0    7.798     4\n",
       "4   61    0   1            0   18.043     0"
      ]
     },
     "execution_count": 10,
     "metadata": {},
     "output_type": "execute_result"
    }
   ],
   "source": [
    "df.head()"
   ]
  },
  {
   "cell_type": "code",
   "execution_count": 11,
   "id": "62674549",
   "metadata": {},
   "outputs": [
    {
     "data": {
      "text/plain": [
       "Drug\n",
       "0    91\n",
       "4    54\n",
       "1    23\n",
       "3    16\n",
       "2    16\n",
       "Name: count, dtype: int64"
      ]
     },
     "execution_count": 11,
     "metadata": {},
     "output_type": "execute_result"
    }
   ],
   "source": [
    "df['Drug'].value_counts()"
   ]
  },
  {
   "cell_type": "code",
   "execution_count": 12,
   "id": "52432d30",
   "metadata": {},
   "outputs": [],
   "source": [
    "x=df.drop('Drug',axis=1).values\n",
    "y=df['Drug'].values"
   ]
  },
  {
   "cell_type": "code",
   "execution_count": 13,
   "id": "0c84137d",
   "metadata": {},
   "outputs": [
    {
     "data": {
      "text/plain": [
       "array([[23.   ,  0.   ,  0.   ,  0.   , 25.355],\n",
       "       [47.   ,  1.   ,  1.   ,  0.   , 13.093],\n",
       "       [47.   ,  1.   ,  1.   ,  0.   , 10.114],\n",
       "       [28.   ,  0.   ,  2.   ,  0.   ,  7.798],\n",
       "       [61.   ,  0.   ,  1.   ,  0.   , 18.043],\n",
       "       [22.   ,  0.   ,  2.   ,  0.   ,  8.607],\n",
       "       [49.   ,  0.   ,  2.   ,  0.   , 16.275],\n",
       "       [41.   ,  1.   ,  1.   ,  0.   , 11.037],\n",
       "       [60.   ,  1.   ,  2.   ,  0.   , 15.171],\n",
       "       [43.   ,  1.   ,  1.   ,  1.   , 19.368],\n",
       "       [47.   ,  0.   ,  1.   ,  0.   , 11.767],\n",
       "       [34.   ,  0.   ,  0.   ,  1.   , 19.199],\n",
       "       [43.   ,  1.   ,  1.   ,  0.   , 15.376],\n",
       "       [74.   ,  0.   ,  1.   ,  0.   , 20.942],\n",
       "       [50.   ,  0.   ,  2.   ,  0.   , 12.703],\n",
       "       [16.   ,  0.   ,  0.   ,  1.   , 15.516],\n",
       "       [69.   ,  1.   ,  1.   ,  1.   , 11.455],\n",
       "       [43.   ,  1.   ,  0.   ,  0.   , 13.972],\n",
       "       [23.   ,  1.   ,  1.   ,  0.   ,  7.298],\n",
       "       [32.   ,  0.   ,  0.   ,  1.   , 25.974],\n",
       "       [57.   ,  1.   ,  1.   ,  1.   , 19.128],\n",
       "       [63.   ,  1.   ,  2.   ,  0.   , 25.917],\n",
       "       [47.   ,  1.   ,  1.   ,  1.   , 30.568],\n",
       "       [48.   ,  0.   ,  1.   ,  0.   , 15.036],\n",
       "       [33.   ,  0.   ,  1.   ,  0.   , 33.486],\n",
       "       [28.   ,  0.   ,  0.   ,  1.   , 18.809],\n",
       "       [31.   ,  1.   ,  0.   ,  0.   , 30.366],\n",
       "       [49.   ,  0.   ,  2.   ,  1.   ,  9.381],\n",
       "       [39.   ,  0.   ,  1.   ,  1.   , 22.697],\n",
       "       [45.   ,  1.   ,  1.   ,  0.   , 17.951],\n",
       "       [18.   ,  0.   ,  2.   ,  1.   ,  8.75 ],\n",
       "       [74.   ,  1.   ,  0.   ,  0.   ,  9.567],\n",
       "       [49.   ,  1.   ,  1.   ,  1.   , 11.014],\n",
       "       [65.   ,  0.   ,  0.   ,  1.   , 31.876],\n",
       "       [53.   ,  1.   ,  2.   ,  0.   , 14.133],\n",
       "       [46.   ,  1.   ,  2.   ,  1.   ,  7.285],\n",
       "       [32.   ,  1.   ,  0.   ,  1.   ,  9.445],\n",
       "       [39.   ,  1.   ,  1.   ,  1.   , 13.938],\n",
       "       [39.   ,  0.   ,  2.   ,  1.   ,  9.709],\n",
       "       [15.   ,  1.   ,  2.   ,  0.   ,  9.084],\n",
       "       [73.   ,  0.   ,  2.   ,  0.   , 19.221],\n",
       "       [58.   ,  0.   ,  0.   ,  1.   , 14.239],\n",
       "       [50.   ,  1.   ,  2.   ,  1.   , 15.79 ],\n",
       "       [23.   ,  1.   ,  2.   ,  0.   , 12.26 ],\n",
       "       [50.   ,  0.   ,  2.   ,  1.   , 12.295],\n",
       "       [66.   ,  0.   ,  2.   ,  1.   ,  8.107],\n",
       "       [37.   ,  0.   ,  0.   ,  0.   , 13.091],\n",
       "       [68.   ,  1.   ,  1.   ,  0.   , 10.291],\n",
       "       [23.   ,  1.   ,  2.   ,  0.   , 31.686],\n",
       "       [28.   ,  0.   ,  1.   ,  0.   , 19.796],\n",
       "       [58.   ,  0.   ,  0.   ,  0.   , 19.416],\n",
       "       [67.   ,  1.   ,  2.   ,  1.   , 10.898],\n",
       "       [62.   ,  1.   ,  1.   ,  1.   , 27.183],\n",
       "       [24.   ,  0.   ,  0.   ,  1.   , 18.457],\n",
       "       [68.   ,  0.   ,  0.   ,  1.   , 10.189],\n",
       "       [26.   ,  0.   ,  1.   ,  0.   , 14.16 ],\n",
       "       [65.   ,  1.   ,  0.   ,  1.   , 11.34 ],\n",
       "       [40.   ,  1.   ,  0.   ,  0.   , 27.826],\n",
       "       [60.   ,  1.   ,  2.   ,  1.   , 10.091],\n",
       "       [34.   ,  1.   ,  0.   ,  0.   , 18.703],\n",
       "       [38.   ,  0.   ,  1.   ,  1.   , 29.875],\n",
       "       [24.   ,  1.   ,  0.   ,  1.   ,  9.475],\n",
       "       [67.   ,  1.   ,  1.   ,  1.   , 20.693],\n",
       "       [45.   ,  1.   ,  1.   ,  1.   ,  8.37 ],\n",
       "       [60.   ,  0.   ,  0.   ,  0.   , 13.303],\n",
       "       [68.   ,  0.   ,  2.   ,  1.   , 27.05 ],\n",
       "       [29.   ,  1.   ,  0.   ,  0.   , 12.856],\n",
       "       [17.   ,  1.   ,  2.   ,  1.   , 10.832],\n",
       "       [54.   ,  1.   ,  2.   ,  0.   , 24.658],\n",
       "       [18.   ,  0.   ,  0.   ,  1.   , 24.276],\n",
       "       [70.   ,  1.   ,  0.   ,  0.   , 13.967],\n",
       "       [28.   ,  0.   ,  2.   ,  0.   , 19.675],\n",
       "       [24.   ,  0.   ,  2.   ,  0.   , 10.605],\n",
       "       [41.   ,  0.   ,  2.   ,  1.   , 22.905],\n",
       "       [31.   ,  1.   ,  0.   ,  1.   , 17.069],\n",
       "       [26.   ,  1.   ,  1.   ,  1.   , 20.909],\n",
       "       [36.   ,  0.   ,  0.   ,  0.   , 11.198],\n",
       "       [26.   ,  0.   ,  0.   ,  1.   , 19.161],\n",
       "       [19.   ,  0.   ,  0.   ,  0.   , 13.313],\n",
       "       [32.   ,  0.   ,  1.   ,  1.   , 10.84 ],\n",
       "       [60.   ,  1.   ,  0.   ,  0.   , 13.934],\n",
       "       [64.   ,  1.   ,  2.   ,  0.   ,  7.761],\n",
       "       [32.   ,  0.   ,  1.   ,  0.   ,  9.712],\n",
       "       [38.   ,  0.   ,  0.   ,  1.   , 11.326],\n",
       "       [47.   ,  0.   ,  1.   ,  0.   , 10.067],\n",
       "       [59.   ,  1.   ,  0.   ,  0.   , 13.935],\n",
       "       [51.   ,  0.   ,  2.   ,  0.   , 13.597],\n",
       "       [69.   ,  1.   ,  1.   ,  0.   , 15.478],\n",
       "       [37.   ,  0.   ,  0.   ,  1.   , 23.091],\n",
       "       [50.   ,  0.   ,  2.   ,  1.   , 17.211],\n",
       "       [62.   ,  1.   ,  2.   ,  0.   , 16.594],\n",
       "       [41.   ,  1.   ,  0.   ,  1.   , 15.156],\n",
       "       [29.   ,  0.   ,  0.   ,  0.   , 29.45 ],\n",
       "       [42.   ,  0.   ,  1.   ,  1.   , 29.271],\n",
       "       [56.   ,  1.   ,  1.   ,  0.   , 15.015],\n",
       "       [36.   ,  1.   ,  1.   ,  1.   , 11.424],\n",
       "       [58.   ,  0.   ,  1.   ,  0.   , 38.247],\n",
       "       [56.   ,  0.   ,  0.   ,  0.   , 25.395],\n",
       "       [20.   ,  1.   ,  0.   ,  1.   , 35.639],\n",
       "       [15.   ,  0.   ,  0.   ,  1.   , 16.725],\n",
       "       [31.   ,  1.   ,  0.   ,  1.   , 11.871],\n",
       "       [45.   ,  0.   ,  0.   ,  0.   , 12.854],\n",
       "       [28.   ,  0.   ,  1.   ,  0.   , 13.127],\n",
       "       [56.   ,  1.   ,  2.   ,  0.   ,  8.966],\n",
       "       [22.   ,  1.   ,  0.   ,  1.   , 28.294],\n",
       "       [37.   ,  1.   ,  1.   ,  1.   ,  8.968],\n",
       "       [22.   ,  1.   ,  2.   ,  0.   , 11.953],\n",
       "       [42.   ,  1.   ,  1.   ,  0.   , 20.013],\n",
       "       [72.   ,  1.   ,  0.   ,  1.   ,  9.677],\n",
       "       [23.   ,  1.   ,  2.   ,  0.   , 16.85 ],\n",
       "       [50.   ,  1.   ,  0.   ,  0.   ,  7.49 ],\n",
       "       [47.   ,  0.   ,  2.   ,  1.   ,  6.683],\n",
       "       [35.   ,  1.   ,  1.   ,  1.   ,  9.17 ],\n",
       "       [65.   ,  0.   ,  1.   ,  1.   , 13.769],\n",
       "       [20.   ,  0.   ,  2.   ,  1.   ,  9.281],\n",
       "       [51.   ,  1.   ,  0.   ,  0.   , 18.295],\n",
       "       [67.   ,  1.   ,  2.   ,  1.   ,  9.514],\n",
       "       [40.   ,  0.   ,  2.   ,  0.   , 10.103],\n",
       "       [32.   ,  0.   ,  0.   ,  1.   , 10.292],\n",
       "       [61.   ,  0.   ,  0.   ,  0.   , 25.475],\n",
       "       [28.   ,  1.   ,  2.   ,  0.   , 27.064],\n",
       "       [15.   ,  1.   ,  0.   ,  1.   , 17.206],\n",
       "       [34.   ,  1.   ,  2.   ,  0.   , 22.456],\n",
       "       [36.   ,  0.   ,  2.   ,  0.   , 16.753],\n",
       "       [53.   ,  0.   ,  0.   ,  1.   , 12.495],\n",
       "       [19.   ,  0.   ,  0.   ,  1.   , 25.969],\n",
       "       [66.   ,  1.   ,  0.   ,  0.   , 16.347],\n",
       "       [35.   ,  1.   ,  2.   ,  1.   ,  7.845],\n",
       "       [47.   ,  1.   ,  1.   ,  1.   , 33.542],\n",
       "       [32.   ,  0.   ,  2.   ,  0.   ,  7.477],\n",
       "       [70.   ,  0.   ,  2.   ,  0.   , 20.489],\n",
       "       [52.   ,  1.   ,  1.   ,  1.   , 32.922],\n",
       "       [49.   ,  1.   ,  1.   ,  1.   , 13.598],\n",
       "       [24.   ,  1.   ,  2.   ,  0.   , 25.786],\n",
       "       [42.   ,  0.   ,  0.   ,  0.   , 21.036],\n",
       "       [74.   ,  1.   ,  1.   ,  1.   , 11.939],\n",
       "       [55.   ,  0.   ,  0.   ,  0.   , 10.977],\n",
       "       [35.   ,  0.   ,  0.   ,  0.   , 12.894],\n",
       "       [51.   ,  1.   ,  0.   ,  1.   , 11.343],\n",
       "       [69.   ,  0.   ,  2.   ,  0.   , 10.065],\n",
       "       [49.   ,  1.   ,  0.   ,  1.   ,  6.269],\n",
       "       [64.   ,  0.   ,  1.   ,  1.   , 25.741],\n",
       "       [60.   ,  1.   ,  0.   ,  1.   ,  8.621],\n",
       "       [74.   ,  1.   ,  0.   ,  1.   , 15.436],\n",
       "       [39.   ,  1.   ,  0.   ,  0.   ,  9.664],\n",
       "       [61.   ,  1.   ,  2.   ,  0.   ,  9.443],\n",
       "       [37.   ,  0.   ,  1.   ,  1.   , 12.006],\n",
       "       [26.   ,  0.   ,  0.   ,  1.   , 12.307],\n",
       "       [61.   ,  0.   ,  1.   ,  1.   ,  7.34 ],\n",
       "       [22.   ,  1.   ,  1.   ,  0.   ,  8.151],\n",
       "       [49.   ,  1.   ,  0.   ,  1.   ,  8.7  ],\n",
       "       [68.   ,  1.   ,  0.   ,  0.   , 11.009],\n",
       "       [55.   ,  1.   ,  2.   ,  1.   ,  7.261],\n",
       "       [72.   ,  0.   ,  1.   ,  1.   , 14.642],\n",
       "       [37.   ,  1.   ,  1.   ,  1.   , 16.724],\n",
       "       [49.   ,  1.   ,  1.   ,  0.   , 10.537],\n",
       "       [31.   ,  1.   ,  0.   ,  1.   , 11.227],\n",
       "       [53.   ,  1.   ,  1.   ,  0.   , 22.963],\n",
       "       [59.   ,  0.   ,  1.   ,  0.   , 10.444],\n",
       "       [34.   ,  0.   ,  1.   ,  1.   , 12.923],\n",
       "       [30.   ,  0.   ,  2.   ,  0.   , 10.443],\n",
       "       [57.   ,  0.   ,  0.   ,  1.   ,  9.945],\n",
       "       [43.   ,  1.   ,  2.   ,  1.   , 12.859],\n",
       "       [21.   ,  0.   ,  0.   ,  1.   , 28.632],\n",
       "       [16.   ,  1.   ,  0.   ,  1.   , 19.007],\n",
       "       [38.   ,  1.   ,  1.   ,  0.   , 18.295],\n",
       "       [58.   ,  0.   ,  1.   ,  0.   , 26.645],\n",
       "       [57.   ,  0.   ,  2.   ,  0.   , 14.216],\n",
       "       [51.   ,  0.   ,  1.   ,  1.   , 23.003],\n",
       "       [20.   ,  0.   ,  0.   ,  0.   , 11.262],\n",
       "       [28.   ,  0.   ,  2.   ,  0.   , 12.879],\n",
       "       [45.   ,  1.   ,  1.   ,  1.   , 10.017],\n",
       "       [39.   ,  0.   ,  2.   ,  1.   , 17.225],\n",
       "       [41.   ,  0.   ,  1.   ,  1.   , 18.739],\n",
       "       [42.   ,  1.   ,  0.   ,  1.   , 12.766],\n",
       "       [73.   ,  0.   ,  0.   ,  0.   , 18.348],\n",
       "       [48.   ,  1.   ,  0.   ,  1.   , 10.446],\n",
       "       [25.   ,  1.   ,  2.   ,  0.   , 19.011],\n",
       "       [39.   ,  1.   ,  2.   ,  0.   , 15.969],\n",
       "       [67.   ,  0.   ,  2.   ,  0.   , 15.891],\n",
       "       [22.   ,  0.   ,  0.   ,  1.   , 22.818],\n",
       "       [59.   ,  0.   ,  2.   ,  0.   , 13.884],\n",
       "       [20.   ,  0.   ,  1.   ,  1.   , 11.686],\n",
       "       [36.   ,  0.   ,  0.   ,  1.   , 15.49 ],\n",
       "       [18.   ,  0.   ,  0.   ,  0.   , 37.188],\n",
       "       [57.   ,  0.   ,  2.   ,  1.   , 25.893],\n",
       "       [70.   ,  1.   ,  0.   ,  0.   ,  9.849],\n",
       "       [47.   ,  1.   ,  0.   ,  0.   , 10.403],\n",
       "       [65.   ,  1.   ,  0.   ,  1.   , 34.997],\n",
       "       [64.   ,  1.   ,  0.   ,  1.   , 20.932],\n",
       "       [58.   ,  1.   ,  0.   ,  0.   , 18.991],\n",
       "       [23.   ,  1.   ,  0.   ,  0.   ,  8.011],\n",
       "       [72.   ,  1.   ,  1.   ,  0.   , 16.31 ],\n",
       "       [72.   ,  1.   ,  1.   ,  0.   ,  6.769],\n",
       "       [46.   ,  0.   ,  0.   ,  0.   , 34.686],\n",
       "       [56.   ,  0.   ,  1.   ,  0.   , 11.567],\n",
       "       [16.   ,  1.   ,  1.   ,  0.   , 12.006],\n",
       "       [52.   ,  1.   ,  2.   ,  0.   ,  9.894],\n",
       "       [23.   ,  1.   ,  2.   ,  1.   , 14.02 ],\n",
       "       [40.   ,  0.   ,  1.   ,  1.   , 11.349]])"
      ]
     },
     "execution_count": 13,
     "metadata": {},
     "output_type": "execute_result"
    }
   ],
   "source": [
    "x"
   ]
  },
  {
   "cell_type": "code",
   "execution_count": 14,
   "id": "a84e88e4",
   "metadata": {},
   "outputs": [
    {
     "data": {
      "text/plain": [
       "array([0, 3, 3, 4, 0, 4, 0, 3, 0, 0, 3, 0, 0, 0, 4, 0, 4, 1, 3, 0, 0, 0,\n",
       "       0, 0, 0, 0, 0, 4, 0, 0, 4, 2, 4, 0, 4, 4, 1, 4, 4, 4, 0, 2, 0, 4,\n",
       "       4, 4, 1, 3, 0, 0, 0, 4, 0, 0, 2, 3, 2, 0, 4, 0, 0, 1, 0, 4, 2, 0,\n",
       "       1, 4, 0, 0, 2, 0, 4, 0, 0, 0, 1, 0, 1, 4, 2, 4, 3, 1, 3, 2, 4, 0,\n",
       "       0, 0, 0, 0, 0, 0, 0, 4, 0, 0, 0, 0, 1, 1, 3, 4, 0, 4, 4, 0, 2, 0,\n",
       "       1, 4, 4, 4, 4, 0, 4, 4, 1, 0, 0, 0, 0, 0, 2, 0, 0, 4, 0, 4, 0, 0,\n",
       "       4, 0, 0, 4, 2, 1, 2, 4, 1, 0, 2, 0, 1, 4, 4, 1, 4, 3, 1, 2, 4, 4,\n",
       "       0, 3, 1, 0, 3, 4, 4, 2, 4, 0, 0, 0, 0, 4, 0, 1, 4, 4, 0, 0, 1, 0,\n",
       "       1, 0, 0, 0, 0, 4, 4, 0, 0, 0, 2, 1, 0, 0, 0, 1, 0, 3, 0, 3, 3, 4,\n",
       "       4, 4])"
      ]
     },
     "execution_count": 14,
     "metadata": {},
     "output_type": "execute_result"
    }
   ],
   "source": [
    "y"
   ]
  },
  {
   "cell_type": "code",
   "execution_count": 16,
   "id": "890d2295",
   "metadata": {},
   "outputs": [],
   "source": [
    "from sklearn.preprocessing import StandardScaler\n",
    "scaler = StandardScaler()\n",
    "x = scaler.fit_transform(x)"
   ]
  },
  {
   "cell_type": "code",
   "execution_count": 24,
   "id": "2845d704",
   "metadata": {},
   "outputs": [
    {
     "data": {
      "text/plain": [
       "array([[-1.29159102, -1.040833  , -1.11016894, -0.97043679,  1.28652212],\n",
       "       [ 0.16269866,  0.96076892,  0.10979693, -0.97043679, -0.4151454 ],\n",
       "       [ 0.16269866,  0.96076892,  0.10979693, -0.97043679, -0.82855818],\n",
       "       [-0.988614  , -1.040833  ,  1.32976279, -0.97043679, -1.14996267],\n",
       "       [ 1.0110343 , -1.040833  ,  0.10979693, -0.97043679,  0.27179427],\n",
       "       [-1.35218642, -1.040833  ,  1.32976279, -0.97043679, -1.03769314],\n",
       "       [ 0.28388946, -1.040833  ,  1.32976279, -0.97043679,  0.02643885],\n",
       "       [-0.20087376,  0.96076892,  0.10979693, -0.97043679, -0.70046821],\n",
       "       [ 0.9504389 ,  0.96076892,  1.32976279, -0.97043679, -0.12676951],\n",
       "       [-0.07968296,  0.96076892,  0.10979693,  1.03046381,  0.45567206],\n",
       "       [ 0.16269866, -1.040833  ,  0.10979693, -0.97043679, -0.59916196],\n",
       "       [-0.62504158, -1.040833  , -1.11016894,  1.03046381,  0.43221897],\n",
       "       [-0.07968296,  0.96076892,  0.10979693, -0.97043679, -0.09832049],\n",
       "       [ 1.79877454, -1.040833  ,  0.10979693, -0.97043679,  0.674105  ],\n",
       "       [ 0.34448487, -1.040833  ,  1.32976279, -0.97043679, -0.46926791],\n",
       "       [-1.71575884, -1.040833  , -1.11016894,  1.03046381, -0.0788919 ],\n",
       "       [ 1.49579753,  0.96076892,  0.10979693,  1.03046381, -0.64245998],\n",
       "       [-0.07968296,  0.96076892, -1.11016894, -0.97043679, -0.29316156],\n",
       "       [-1.29159102,  0.96076892,  0.10979693, -0.97043679, -1.21935052],\n",
       "       [-0.74623239, -1.040833  , -1.11016894,  1.03046381,  1.37242427],\n",
       "       [ 0.76865269,  0.96076892,  0.10979693,  1.03046381,  0.42236589],\n",
       "       [ 1.13222511,  0.96076892,  1.32976279, -0.97043679,  1.36451406],\n",
       "       [ 0.16269866,  0.96076892,  0.10979693,  1.03046381,  2.00995979],\n",
       "       [ 0.22329406, -1.040833  ,  0.10979693, -0.97043679, -0.14550423],\n",
       "       [-0.68563699, -1.040833  ,  0.10979693, -0.97043679,  2.41490725],\n",
       "       [-0.988614  , -1.040833  , -1.11016894,  1.03046381,  0.37809645],\n",
       "       [-0.80682779,  0.96076892, -1.11016894, -0.97043679,  1.9819271 ],\n",
       "       [ 0.28388946, -1.040833  ,  1.32976279,  1.03046381, -0.93028076],\n",
       "       [-0.32206457, -1.040833  ,  0.10979693,  1.03046381,  0.91765633],\n",
       "       [ 0.04150785,  0.96076892,  0.10979693, -0.97043679,  0.25902691],\n",
       "       [-1.59456803, -1.040833  ,  1.32976279,  1.03046381, -1.01784822],\n",
       "       [ 1.79877454,  0.96076892, -1.11016894, -0.97043679, -0.90446848],\n",
       "       [ 0.28388946,  0.96076892,  0.10979693,  1.03046381, -0.70366006],\n",
       "       [ 1.25341591, -1.040833  , -1.11016894,  1.03046381,  2.19147839],\n",
       "       [ 0.52627108,  0.96076892,  1.32976279, -0.97043679, -0.27081868],\n",
       "       [ 0.10210325,  0.96076892,  1.32976279,  1.03046381, -1.2211546 ],\n",
       "       [-0.74623239,  0.96076892, -1.11016894,  1.03046381, -0.92139911],\n",
       "       [-0.32206457,  0.96076892,  0.10979693,  1.03046381, -0.29787994],\n",
       "       [-0.32206457, -1.040833  ,  1.32976279,  1.03046381, -0.88476233],\n",
       "       [-1.77635424,  0.96076892,  1.32976279, -0.97043679, -0.97149714],\n",
       "       [ 1.73817914, -1.040833  ,  1.32976279, -0.97043679,  0.43527203],\n",
       "       [ 0.82924809, -1.040833  , -1.11016894,  1.03046381, -0.25610845],\n",
       "       [ 0.34448487,  0.96076892,  1.32976279,  1.03046381, -0.04086736],\n",
       "       [-1.29159102,  0.96076892,  1.32976279, -0.97043679, -0.53074555],\n",
       "       [ 0.34448487, -1.040833  ,  1.32976279,  1.03046381, -0.5258884 ],\n",
       "       [ 1.31401132, -1.040833  ,  1.32976279,  1.03046381, -1.10708099],\n",
       "       [-0.44325537, -1.040833  , -1.11016894, -0.97043679, -0.41542295],\n",
       "       [ 1.43520212,  0.96076892,  0.10979693, -0.97043679, -0.80399488],\n",
       "       [-1.29159102,  0.96076892,  1.32976279, -0.97043679,  2.16511101],\n",
       "       [-0.988614  , -1.040833  ,  0.10979693, -0.97043679,  0.51506806],\n",
       "       [ 0.82924809, -1.040833  , -1.11016894, -0.97043679,  0.46233329],\n",
       "       [ 1.37460672,  0.96076892,  1.32976279,  1.03046381, -0.71975804],\n",
       "       [ 1.0716297 ,  0.96076892,  0.10979693,  1.03046381,  1.54020408],\n",
       "       [-1.23099561, -1.040833  , -1.11016894,  1.03046381,  0.32924741],\n",
       "       [ 1.43520212, -1.040833  , -1.11016894,  1.03046381, -0.81815   ],\n",
       "       [-1.10980481, -1.040833  ,  0.10979693, -0.97043679, -0.26707173],\n",
       "       [ 1.25341591,  0.96076892, -1.11016894,  1.03046381, -0.65841918],\n",
       "       [-0.26146916,  0.96076892, -1.11016894, -0.97043679,  1.62943685],\n",
       "       [ 0.9504389 ,  0.96076892,  1.32976279,  1.03046381, -0.83175002],\n",
       "       [-0.62504158,  0.96076892, -1.11016894, -0.97043679,  0.36338623],\n",
       "       [-0.38265997, -1.040833  ,  0.10979693,  1.03046381,  1.91378824],\n",
       "       [-1.23099561,  0.96076892, -1.11016894,  1.03046381, -0.91723584],\n",
       "       [ 1.37460672,  0.96076892,  0.10979693,  1.03046381,  0.63954985],\n",
       "       [ 0.04150785,  0.96076892,  0.10979693,  1.03046381, -1.07058298],\n",
       "       [ 0.9504389 , -1.040833  , -1.11016894, -0.97043679, -0.3860025 ],\n",
       "       [ 1.43520212, -1.040833  ,  1.32976279,  1.03046381,  1.52174691],\n",
       "       [-0.9280186 ,  0.96076892, -1.11016894, -0.97043679, -0.44803523],\n",
       "       [-1.65516344,  0.96076892,  1.32976279,  1.03046381, -0.72891723],\n",
       "       [ 0.58686648,  0.96076892,  1.32976279, -0.97043679,  1.18979546],\n",
       "       [-1.59456803, -1.040833  , -1.11016894,  1.03046381,  1.13678315],\n",
       "       [ 1.55639293,  0.96076892, -1.11016894, -0.97043679, -0.29385544],\n",
       "       [-0.988614  , -1.040833  ,  1.32976279, -0.97043679,  0.4982762 ],\n",
       "       [-1.23099561, -1.040833  ,  1.32976279, -0.97043679, -0.76041931],\n",
       "       [-0.20087376, -1.040833  ,  1.32976279,  1.03046381,  0.94652168],\n",
       "       [-0.80682779,  0.96076892, -1.11016894,  1.03046381,  0.13662675],\n",
       "       [-1.10980481,  0.96076892,  0.10979693,  1.03046381,  0.6695254 ],\n",
       "       [-0.50385078, -1.040833  , -1.11016894, -0.97043679, -0.67812533],\n",
       "       [-1.10980481, -1.040833  , -1.11016894,  1.03046381,  0.42694549],\n",
       "       [-1.53397263, -1.040833  , -1.11016894, -0.97043679, -0.38461474],\n",
       "       [-0.74623239, -1.040833  ,  0.10979693,  1.03046381, -0.72780703],\n",
       "       [ 0.9504389 ,  0.96076892, -1.11016894, -0.97043679, -0.29843504],\n",
       "       [ 1.19282051,  0.96076892,  1.32976279, -0.97043679, -1.15509738],\n",
       "       [-0.74623239, -1.040833  ,  0.10979693, -0.97043679, -0.884346  ],\n",
       "       [-0.38265997, -1.040833  , -1.11016894,  1.03046381, -0.66036204],\n",
       "       [ 0.16269866, -1.040833  ,  0.10979693, -0.97043679, -0.83508063],\n",
       "       [ 0.88984349,  0.96076892, -1.11016894, -0.97043679, -0.29829626],\n",
       "       [ 0.40508027, -1.040833  ,  1.32976279, -0.97043679, -0.34520245],\n",
       "       [ 1.49579753,  0.96076892,  0.10979693, -0.97043679, -0.08416537],\n",
       "       [-0.44325537, -1.040833  , -1.11016894,  1.03046381,  0.97233395],\n",
       "       [ 0.34448487, -1.040833  ,  1.32976279,  1.03046381,  0.1563329 ],\n",
       "       [ 1.0716297 ,  0.96076892,  1.32976279, -0.97043679,  0.0707083 ],\n",
       "       [-0.20087376,  0.96076892, -1.11016894,  1.03046381, -0.12885115],\n",
       "       [-0.9280186 , -1.040833  , -1.11016894, -0.97043679,  1.85480857],\n",
       "       [-0.14027836, -1.040833  ,  0.10979693,  1.03046381,  1.82996772],\n",
       "       [ 0.70805729,  0.96076892,  0.10979693, -0.97043679, -0.14841852],\n",
       "       [-0.50385078,  0.96076892,  0.10979693,  1.03046381, -0.64676202],\n",
       "       [ 0.82924809, -1.040833  ,  0.10979693, -0.97043679,  3.07561832],\n",
       "       [ 0.70805729, -1.040833  , -1.11016894, -0.97043679,  1.29207314],\n",
       "       [-1.47337723,  0.96076892, -1.11016894,  1.03046381,  2.71369132],\n",
       "       [-1.77635424, -1.040833  , -1.11016894,  1.03046381,  0.08888791],\n",
       "       [-0.80682779,  0.96076892, -1.11016894,  1.03046381, -0.58472929],\n",
       "       [ 0.04150785, -1.040833  , -1.11016894, -0.97043679, -0.44831279],\n",
       "       [-0.988614  , -1.040833  ,  0.10979693, -0.97043679, -0.41042702],\n",
       "       [ 0.70805729,  0.96076892,  1.32976279, -0.97043679, -0.98787267],\n",
       "       [-1.35218642,  0.96076892, -1.11016894,  1.03046381,  1.69438387],\n",
       "       [-0.44325537,  0.96076892,  0.10979693,  1.03046381, -0.98759512],\n",
       "       [-1.35218642,  0.96076892,  1.32976279, -0.97043679, -0.57334968],\n",
       "       [-0.14027836,  0.96076892,  0.10979693, -0.97043679,  0.54518238],\n",
       "       [ 1.67758373,  0.96076892, -1.11016894,  1.03046381, -0.88920315],\n",
       "       [-1.29159102,  0.96076892,  1.32976279, -0.97043679,  0.10623487],\n",
       "       [ 0.34448487,  0.96076892, -1.11016894, -0.97043679, -1.19270559],\n",
       "       [ 0.16269866, -1.040833  ,  1.32976279,  1.03046381, -1.30469757],\n",
       "       [-0.56444618,  0.96076892,  0.10979693,  1.03046381, -0.95956243],\n",
       "       [ 1.25341591, -1.040833  ,  0.10979693,  1.03046381, -0.32133303],\n",
       "       [-1.47337723, -1.040833  ,  1.32976279,  1.03046381, -0.94415833],\n",
       "       [ 0.40508027,  0.96076892, -1.11016894, -0.97043679,  0.30676574],\n",
       "       [ 1.37460672,  0.96076892,  1.32976279,  1.03046381, -0.91182359],\n",
       "       [-0.26146916, -1.040833  ,  1.32976279, -0.97043679, -0.83008471],\n",
       "       [-0.74623239, -1.040833  , -1.11016894,  1.03046381, -0.8038561 ],\n",
       "       [ 1.0110343 , -1.040833  , -1.11016894, -0.97043679,  1.3031752 ],\n",
       "       [-0.988614  ,  0.96076892,  1.32976279, -0.97043679,  1.52368977],\n",
       "       [-1.77635424,  0.96076892, -1.11016894,  1.03046381,  0.15563902],\n",
       "       [-0.62504158,  0.96076892,  1.32976279, -0.97043679,  0.88421139],\n",
       "       [-0.50385078, -1.040833  ,  1.32976279, -0.97043679,  0.09277363],\n",
       "       [ 0.52627108, -1.040833  , -1.11016894,  1.03046381, -0.49813326],\n",
       "       [-1.53397263, -1.040833  , -1.11016894,  1.03046381,  1.37173039],\n",
       "       [ 1.31401132,  0.96076892, -1.11016894, -0.97043679,  0.0364307 ],\n",
       "       [-0.56444618,  0.96076892,  1.32976279,  1.03046381, -1.14344022],\n",
       "       [ 0.16269866,  0.96076892,  0.10979693,  1.03046381,  2.42267869],\n",
       "       [-0.74623239, -1.040833  ,  1.32976279, -0.97043679, -1.19450967],\n",
       "       [ 1.55639293, -1.040833  ,  1.32976279, -0.97043679,  0.61123961],\n",
       "       [ 0.46567567,  0.96076892,  0.10979693,  1.03046381,  2.33663776],\n",
       "       [ 0.28388946,  0.96076892,  0.10979693,  1.03046381, -0.34506367],\n",
       "       [-1.23099561,  0.96076892,  1.32976279, -0.97043679,  1.34633444],\n",
       "       [-0.14027836, -1.040833  , -1.11016894, -0.97043679,  0.68714991],\n",
       "       [ 1.79877454,  0.96076892,  0.10979693,  1.03046381, -0.57529254],\n",
       "       [ 0.64746188, -1.040833  , -1.11016894, -0.97043679, -0.70879476],\n",
       "       [-0.56444618, -1.040833  , -1.11016894, -0.97043679, -0.44276176],\n",
       "       [ 0.40508027,  0.96076892, -1.11016894,  1.03046381, -0.65800285],\n",
       "       [ 1.49579753, -1.040833  ,  1.32976279, -0.97043679, -0.83535819],\n",
       "       [ 0.28388946,  0.96076892, -1.11016894,  1.03046381, -1.36215071],\n",
       "       [ 1.19282051, -1.040833  ,  0.10979693,  1.03046381,  1.34008953],\n",
       "       [ 0.9504389 ,  0.96076892, -1.11016894,  1.03046381, -1.03575028],\n",
       "       [ 1.79877454,  0.96076892, -1.11016894,  1.03046381, -0.08999395],\n",
       "       [-0.32206457,  0.96076892, -1.11016894, -0.97043679, -0.89100724],\n",
       "       [ 1.0110343 ,  0.96076892,  1.32976279, -0.97043679, -0.92167666],\n",
       "       [-0.44325537, -1.040833  ,  0.10979693,  1.03046381, -0.56599457],\n",
       "       [-1.10980481, -1.040833  , -1.11016894,  1.03046381, -0.52422309],\n",
       "       [ 1.0110343 , -1.040833  ,  0.10979693,  1.03046381, -1.21352194],\n",
       "       [-1.35218642,  0.96076892,  0.10979693, -0.97043679, -1.10097486],\n",
       "       [ 0.28388946,  0.96076892, -1.11016894,  1.03046381, -1.024787  ],\n",
       "       [ 1.43520212,  0.96076892, -1.11016894, -0.97043679, -0.70435393],\n",
       "       [ 0.64746188,  0.96076892,  1.32976279,  1.03046381, -1.22448522],\n",
       "       [ 1.67758373, -1.040833  ,  0.10979693,  1.03046381, -0.20018185],\n",
       "       [-0.44325537,  0.96076892,  0.10979693,  1.03046381,  0.08874914],\n",
       "       [ 0.28388946,  0.96076892,  0.10979693, -0.97043679, -0.76985606],\n",
       "       [-0.80682779,  0.96076892, -1.11016894,  1.03046381, -0.67410083],\n",
       "       [ 0.52627108,  0.96076892,  0.10979693, -0.97043679,  0.95457067],\n",
       "       [ 0.88984349, -1.040833  ,  0.10979693, -0.97043679, -0.7827622 ],\n",
       "       [-0.62504158, -1.040833  ,  0.10979693,  1.03046381, -0.43873726],\n",
       "       [-0.8674232 , -1.040833  ,  1.32976279, -0.97043679, -0.78290097],\n",
       "       [ 0.76865269, -1.040833  , -1.11016894,  1.03046381, -0.85201127],\n",
       "       [-0.07968296,  0.96076892,  1.32976279,  1.03046381, -0.44761891],\n",
       "       [-1.41278182, -1.040833  , -1.11016894,  1.03046381,  1.74129005],\n",
       "       [-1.71575884,  0.96076892, -1.11016894,  1.03046381,  0.40557404],\n",
       "       [-0.38265997,  0.96076892,  0.10979693, -0.97043679,  0.30676574],\n",
       "       [ 0.82924809, -1.040833  ,  0.10979693, -0.97043679,  1.46554276],\n",
       "       [ 0.76865269, -1.040833  ,  1.32976279, -0.97043679, -0.2593003 ],\n",
       "       [ 0.40508027, -1.040833  ,  0.10979693,  1.03046381,  0.96012169],\n",
       "       [-1.47337723, -1.040833  , -1.11016894, -0.97043679, -0.66924368],\n",
       "       [-0.988614  , -1.040833  ,  1.32976279, -0.97043679, -0.44484339],\n",
       "       [ 0.04150785,  0.96076892,  0.10979693,  1.03046381, -0.84201942],\n",
       "       [-0.32206457, -1.040833  ,  1.32976279,  1.03046381,  0.15827576],\n",
       "       [-0.20087376, -1.040833  ,  0.10979693,  1.03046381,  0.36838215],\n",
       "       [-0.14027836,  0.96076892, -1.11016894,  1.03046381, -0.46052505],\n",
       "       [ 1.73817914, -1.040833  , -1.11016894, -0.97043679,  0.31412086],\n",
       "       [ 0.22329406,  0.96076892, -1.11016894,  1.03046381, -0.78248465],\n",
       "       [-1.17040021,  0.96076892,  1.32976279, -0.97043679,  0.40612914],\n",
       "       [-0.32206457,  0.96076892,  1.32976279, -0.97043679, -0.01602651],\n",
       "       [ 1.37460672, -1.040833  ,  1.32976279, -0.97043679, -0.02685101],\n",
       "       [-1.35218642, -1.040833  , -1.11016894,  1.03046381,  0.93444819],\n",
       "       [ 0.88984349, -1.040833  ,  1.32976279, -0.97043679, -0.30537382],\n",
       "       [-1.47337723, -1.040833  ,  0.10979693,  1.03046381, -0.61040279],\n",
       "       [-0.50385078, -1.040833  , -1.11016894,  1.03046381, -0.08250007],\n",
       "       [-1.59456803, -1.040833  , -1.11016894, -0.97043679,  2.92865486],\n",
       "       [ 0.76865269, -1.040833  ,  1.32976279,  1.03046381,  1.36118344],\n",
       "       [ 1.55639293,  0.96076892, -1.11016894, -0.97043679, -0.86533373],\n",
       "       [ 0.16269866,  0.96076892, -1.11016894, -0.97043679, -0.788452  ],\n",
       "       [ 1.25341591,  0.96076892, -1.11016894,  1.03046381,  2.62459732],\n",
       "       [ 1.19282051,  0.96076892, -1.11016894,  1.03046381,  0.67271724],\n",
       "       [ 0.82924809,  0.96076892, -1.11016894, -0.97043679,  0.40335363],\n",
       "       [-1.29159102,  0.96076892, -1.11016894, -0.97043679, -1.12040345],\n",
       "       [ 1.67758373,  0.96076892,  0.10979693, -0.97043679,  0.031296  ],\n",
       "       [ 1.67758373,  0.96076892,  0.10979693, -0.97043679, -1.29276286],\n",
       "       [ 0.10210325, -1.040833  , -1.11016894, -0.97043679,  2.58143808],\n",
       "       [ 0.70805729, -1.040833  ,  0.10979693, -0.97043679, -0.6269171 ],\n",
       "       [-1.71575884,  0.96076892,  0.10979693, -0.97043679, -0.56599457],\n",
       "       [ 0.46567567,  0.96076892,  1.32976279, -0.97043679, -0.85908883],\n",
       "       [-1.29159102,  0.96076892,  1.32976279,  1.03046381, -0.28650033],\n",
       "       [-0.26146916, -1.040833  ,  0.10979693,  1.03046381, -0.6571702 ]])"
      ]
     },
     "execution_count": 24,
     "metadata": {},
     "output_type": "execute_result"
    }
   ],
   "source": [
    "x"
   ]
  },
  {
   "cell_type": "markdown",
   "id": "5e4373d4",
   "metadata": {},
   "source": [
    "# Model Building"
   ]
  },
  {
   "cell_type": "code",
   "execution_count": 37,
   "id": "b7ded005",
   "metadata": {},
   "outputs": [],
   "source": [
    "from sklearn.model_selection import train_test_split\n",
    "x_train,x_test,y_train,y_test = train_test_split(x,y,test_size=0.2,random_state=42)"
   ]
  },
  {
   "cell_type": "code",
   "execution_count": 38,
   "id": "97e5790f",
   "metadata": {},
   "outputs": [
    {
     "data": {
      "text/plain": [
       "((160, 5), (40, 5))"
      ]
     },
     "execution_count": 38,
     "metadata": {},
     "output_type": "execute_result"
    }
   ],
   "source": [
    "x_train.shape,x_test.shape"
   ]
  },
  {
   "cell_type": "code",
   "execution_count": 39,
   "id": "c1359792",
   "metadata": {},
   "outputs": [],
   "source": [
    "from tensorflow.keras.models import Sequential\n",
    "from tensorflow.keras.layers import Dense"
   ]
  },
  {
   "cell_type": "code",
   "execution_count": 41,
   "id": "dead1309",
   "metadata": {},
   "outputs": [],
   "source": [
    "#creating ANN Skeleton\n",
    "model=Sequential()\n",
    "model.add(Dense(5, activation='relu')) # input layer\n",
    "model.add(Dense(8, activation='relu'))  #1st Hidden layer\n",
    "model.add(Dense(16, activation='relu'))#2nd hidden layer\n",
    "model.add(Dense(32, activation='relu'))#3rd hidden layer\n",
    "model.add(Dense(units=len(df['Drug'].unique()), activation='softmax')) #Output Layer"
   ]
  },
  {
   "cell_type": "code",
   "execution_count": 44,
   "id": "3ca718d2",
   "metadata": {},
   "outputs": [],
   "source": [
    "#Compling ANN model\n",
    "model.compile(optimizer='adam',loss='sparse_categorical_crossentropy',metrics=['accuracy'])"
   ]
  },
  {
   "cell_type": "code",
   "execution_count": 54,
   "id": "a3529c62",
   "metadata": {},
   "outputs": [
    {
     "name": "stdout",
     "output_type": "stream",
     "text": [
      "Epoch 1/100\n",
      "16/16 [==============================] - 0s 3ms/step - loss: 0.2590 - accuracy: 0.9312\n",
      "Epoch 2/100\n",
      "16/16 [==============================] - 0s 3ms/step - loss: 0.2485 - accuracy: 0.9375\n",
      "Epoch 3/100\n",
      "16/16 [==============================] - 0s 3ms/step - loss: 0.2434 - accuracy: 0.9375\n",
      "Epoch 4/100\n",
      "16/16 [==============================] - 0s 3ms/step - loss: 0.2343 - accuracy: 0.9375\n",
      "Epoch 5/100\n",
      "16/16 [==============================] - 0s 3ms/step - loss: 0.2300 - accuracy: 0.9438\n",
      "Epoch 6/100\n",
      "16/16 [==============================] - 0s 3ms/step - loss: 0.2241 - accuracy: 0.9438\n",
      "Epoch 7/100\n",
      "16/16 [==============================] - 0s 3ms/step - loss: 0.2180 - accuracy: 0.9438\n",
      "Epoch 8/100\n",
      "16/16 [==============================] - 0s 3ms/step - loss: 0.2126 - accuracy: 0.9500\n",
      "Epoch 9/100\n",
      "16/16 [==============================] - 0s 3ms/step - loss: 0.2100 - accuracy: 0.9563\n",
      "Epoch 10/100\n",
      "16/16 [==============================] - 0s 3ms/step - loss: 0.2036 - accuracy: 0.9563\n",
      "Epoch 11/100\n",
      "16/16 [==============================] - 0s 3ms/step - loss: 0.1973 - accuracy: 0.9500\n",
      "Epoch 12/100\n",
      "16/16 [==============================] - 0s 3ms/step - loss: 0.1911 - accuracy: 0.9563\n",
      "Epoch 13/100\n",
      "16/16 [==============================] - 0s 3ms/step - loss: 0.1880 - accuracy: 0.9563\n",
      "Epoch 14/100\n",
      "16/16 [==============================] - 0s 3ms/step - loss: 0.1863 - accuracy: 0.9625\n",
      "Epoch 15/100\n",
      "16/16 [==============================] - 0s 4ms/step - loss: 0.1737 - accuracy: 0.9625\n",
      "Epoch 16/100\n",
      "16/16 [==============================] - 0s 3ms/step - loss: 0.1720 - accuracy: 0.9563\n",
      "Epoch 17/100\n",
      "16/16 [==============================] - 0s 3ms/step - loss: 0.1668 - accuracy: 0.9563\n",
      "Epoch 18/100\n",
      "16/16 [==============================] - 0s 3ms/step - loss: 0.1655 - accuracy: 0.9688\n",
      "Epoch 19/100\n",
      "16/16 [==============================] - 0s 3ms/step - loss: 0.1646 - accuracy: 0.9625\n",
      "Epoch 20/100\n",
      "16/16 [==============================] - 0s 3ms/step - loss: 0.1558 - accuracy: 0.9625\n",
      "Epoch 21/100\n",
      "16/16 [==============================] - 0s 3ms/step - loss: 0.1501 - accuracy: 0.9750\n",
      "Epoch 22/100\n",
      "16/16 [==============================] - 0s 3ms/step - loss: 0.1449 - accuracy: 0.9750\n",
      "Epoch 23/100\n",
      "16/16 [==============================] - 0s 3ms/step - loss: 0.1493 - accuracy: 0.9625\n",
      "Epoch 24/100\n",
      "16/16 [==============================] - 0s 3ms/step - loss: 0.1402 - accuracy: 0.9750\n",
      "Epoch 25/100\n",
      "16/16 [==============================] - 0s 3ms/step - loss: 0.1380 - accuracy: 0.9750\n",
      "Epoch 26/100\n",
      "16/16 [==============================] - 0s 3ms/step - loss: 0.1349 - accuracy: 0.9688\n",
      "Epoch 27/100\n",
      "16/16 [==============================] - 0s 3ms/step - loss: 0.1271 - accuracy: 0.9750\n",
      "Epoch 28/100\n",
      "16/16 [==============================] - 0s 3ms/step - loss: 0.1269 - accuracy: 0.9750\n",
      "Epoch 29/100\n",
      "16/16 [==============================] - 0s 3ms/step - loss: 0.1224 - accuracy: 0.9750\n",
      "Epoch 30/100\n",
      "16/16 [==============================] - 0s 3ms/step - loss: 0.1222 - accuracy: 0.9750\n",
      "Epoch 31/100\n",
      "16/16 [==============================] - 0s 4ms/step - loss: 0.1203 - accuracy: 0.9688\n",
      "Epoch 32/100\n",
      "16/16 [==============================] - 0s 4ms/step - loss: 0.1156 - accuracy: 0.9750\n",
      "Epoch 33/100\n",
      "16/16 [==============================] - 0s 4ms/step - loss: 0.1155 - accuracy: 0.9750\n",
      "Epoch 34/100\n",
      "16/16 [==============================] - 0s 4ms/step - loss: 0.1164 - accuracy: 0.9688\n",
      "Epoch 35/100\n",
      "16/16 [==============================] - 0s 4ms/step - loss: 0.1120 - accuracy: 0.9750\n",
      "Epoch 36/100\n",
      "16/16 [==============================] - 0s 3ms/step - loss: 0.1125 - accuracy: 0.9750\n",
      "Epoch 37/100\n",
      "16/16 [==============================] - 0s 3ms/step - loss: 0.1074 - accuracy: 0.9750\n",
      "Epoch 38/100\n",
      "16/16 [==============================] - 0s 3ms/step - loss: 0.1109 - accuracy: 0.9688\n",
      "Epoch 39/100\n",
      "16/16 [==============================] - 0s 3ms/step - loss: 0.1082 - accuracy: 0.9750\n",
      "Epoch 40/100\n",
      "16/16 [==============================] - 0s 3ms/step - loss: 0.1076 - accuracy: 0.9750\n",
      "Epoch 41/100\n",
      "16/16 [==============================] - 0s 4ms/step - loss: 0.1058 - accuracy: 0.9750\n",
      "Epoch 42/100\n",
      "16/16 [==============================] - 0s 3ms/step - loss: 0.1087 - accuracy: 0.9750\n",
      "Epoch 43/100\n",
      "16/16 [==============================] - 0s 3ms/step - loss: 0.1030 - accuracy: 0.9750\n",
      "Epoch 44/100\n",
      "16/16 [==============================] - 0s 3ms/step - loss: 0.1037 - accuracy: 0.9625\n",
      "Epoch 45/100\n",
      "16/16 [==============================] - 0s 3ms/step - loss: 0.0997 - accuracy: 0.9750\n",
      "Epoch 46/100\n",
      "16/16 [==============================] - 0s 3ms/step - loss: 0.1033 - accuracy: 0.9750\n",
      "Epoch 47/100\n",
      "16/16 [==============================] - 0s 3ms/step - loss: 0.0998 - accuracy: 0.9750\n",
      "Epoch 48/100\n",
      "16/16 [==============================] - 0s 3ms/step - loss: 0.0996 - accuracy: 0.9750\n",
      "Epoch 49/100\n",
      "16/16 [==============================] - 0s 3ms/step - loss: 0.0971 - accuracy: 0.9750\n",
      "Epoch 50/100\n",
      "16/16 [==============================] - 0s 3ms/step - loss: 0.1007 - accuracy: 0.9688\n",
      "Epoch 51/100\n",
      "16/16 [==============================] - 0s 3ms/step - loss: 0.0980 - accuracy: 0.9750\n",
      "Epoch 52/100\n",
      "16/16 [==============================] - 0s 3ms/step - loss: 0.0988 - accuracy: 0.9688\n",
      "Epoch 53/100\n",
      "16/16 [==============================] - 0s 3ms/step - loss: 0.0995 - accuracy: 0.9750\n",
      "Epoch 54/100\n",
      "16/16 [==============================] - 0s 3ms/step - loss: 0.0936 - accuracy: 0.9750\n",
      "Epoch 55/100\n",
      "16/16 [==============================] - 0s 3ms/step - loss: 0.0955 - accuracy: 0.9688\n",
      "Epoch 56/100\n",
      "16/16 [==============================] - 0s 3ms/step - loss: 0.0927 - accuracy: 0.9750\n",
      "Epoch 57/100\n",
      "16/16 [==============================] - 0s 4ms/step - loss: 0.0941 - accuracy: 0.9750\n",
      "Epoch 58/100\n",
      "16/16 [==============================] - 0s 3ms/step - loss: 0.0997 - accuracy: 0.9625\n",
      "Epoch 59/100\n",
      "16/16 [==============================] - 0s 3ms/step - loss: 0.0928 - accuracy: 0.9750\n",
      "Epoch 60/100\n",
      "16/16 [==============================] - 0s 4ms/step - loss: 0.0930 - accuracy: 0.9750\n",
      "Epoch 61/100\n",
      "16/16 [==============================] - 0s 4ms/step - loss: 0.0946 - accuracy: 0.9750\n",
      "Epoch 62/100\n",
      "16/16 [==============================] - 0s 3ms/step - loss: 0.0911 - accuracy: 0.9750\n",
      "Epoch 63/100\n",
      "16/16 [==============================] - 0s 3ms/step - loss: 0.0902 - accuracy: 0.9750\n",
      "Epoch 64/100\n",
      "16/16 [==============================] - 0s 3ms/step - loss: 0.0875 - accuracy: 0.9625\n",
      "Epoch 65/100\n",
      "16/16 [==============================] - 0s 3ms/step - loss: 0.0826 - accuracy: 0.9812\n",
      "Epoch 66/100\n",
      "16/16 [==============================] - 0s 3ms/step - loss: 0.0811 - accuracy: 0.9750\n",
      "Epoch 67/100\n",
      "16/16 [==============================] - 0s 3ms/step - loss: 0.0829 - accuracy: 0.9812\n",
      "Epoch 68/100\n",
      "16/16 [==============================] - 0s 3ms/step - loss: 0.0761 - accuracy: 0.9812\n",
      "Epoch 69/100\n",
      "16/16 [==============================] - 0s 4ms/step - loss: 0.0807 - accuracy: 0.9750\n",
      "Epoch 70/100\n",
      "16/16 [==============================] - 0s 3ms/step - loss: 0.0804 - accuracy: 0.9750\n",
      "Epoch 71/100\n",
      "16/16 [==============================] - 0s 3ms/step - loss: 0.0773 - accuracy: 0.9812\n",
      "Epoch 72/100\n",
      "16/16 [==============================] - 0s 3ms/step - loss: 0.0763 - accuracy: 0.9750\n",
      "Epoch 73/100\n",
      "16/16 [==============================] - 0s 3ms/step - loss: 0.0755 - accuracy: 0.9812\n",
      "Epoch 74/100\n",
      "16/16 [==============================] - 0s 3ms/step - loss: 0.0777 - accuracy: 0.9750\n",
      "Epoch 75/100\n",
      "16/16 [==============================] - 0s 3ms/step - loss: 0.0763 - accuracy: 0.9812\n",
      "Epoch 76/100\n",
      "16/16 [==============================] - 0s 3ms/step - loss: 0.0727 - accuracy: 0.9812\n",
      "Epoch 77/100\n",
      "16/16 [==============================] - 0s 3ms/step - loss: 0.0728 - accuracy: 0.9750\n",
      "Epoch 78/100\n",
      "16/16 [==============================] - 0s 3ms/step - loss: 0.0693 - accuracy: 0.9750\n",
      "Epoch 79/100\n",
      "16/16 [==============================] - 0s 3ms/step - loss: 0.0623 - accuracy: 0.9750\n",
      "Epoch 80/100\n",
      "16/16 [==============================] - 0s 3ms/step - loss: 0.0555 - accuracy: 0.9875\n",
      "Epoch 81/100\n",
      "16/16 [==============================] - 0s 3ms/step - loss: 0.0558 - accuracy: 0.9812\n",
      "Epoch 82/100\n",
      "16/16 [==============================] - 0s 4ms/step - loss: 0.0462 - accuracy: 0.9875\n",
      "Epoch 83/100\n"
     ]
    },
    {
     "name": "stdout",
     "output_type": "stream",
     "text": [
      "16/16 [==============================] - 0s 4ms/step - loss: 0.0490 - accuracy: 0.9812\n",
      "Epoch 84/100\n",
      "16/16 [==============================] - 0s 4ms/step - loss: 0.0410 - accuracy: 0.9875\n",
      "Epoch 85/100\n",
      "16/16 [==============================] - 0s 4ms/step - loss: 0.0340 - accuracy: 0.9937\n",
      "Epoch 86/100\n",
      "16/16 [==============================] - 0s 4ms/step - loss: 0.0336 - accuracy: 0.9875\n",
      "Epoch 87/100\n",
      "16/16 [==============================] - 0s 4ms/step - loss: 0.0328 - accuracy: 0.9937\n",
      "Epoch 88/100\n",
      "16/16 [==============================] - 0s 3ms/step - loss: 0.0321 - accuracy: 0.9937\n",
      "Epoch 89/100\n",
      "16/16 [==============================] - 0s 3ms/step - loss: 0.0313 - accuracy: 0.9937\n",
      "Epoch 90/100\n",
      "16/16 [==============================] - 0s 3ms/step - loss: 0.0344 - accuracy: 0.9875\n",
      "Epoch 91/100\n",
      "16/16 [==============================] - 0s 3ms/step - loss: 0.0312 - accuracy: 0.9937\n",
      "Epoch 92/100\n",
      "16/16 [==============================] - 0s 3ms/step - loss: 0.0297 - accuracy: 0.9875\n",
      "Epoch 93/100\n",
      "16/16 [==============================] - 0s 3ms/step - loss: 0.0262 - accuracy: 0.9937\n",
      "Epoch 94/100\n",
      "16/16 [==============================] - 0s 4ms/step - loss: 0.0355 - accuracy: 0.9812\n",
      "Epoch 95/100\n",
      "16/16 [==============================] - 0s 3ms/step - loss: 0.0272 - accuracy: 0.9937\n",
      "Epoch 96/100\n",
      "16/16 [==============================] - 0s 3ms/step - loss: 0.0294 - accuracy: 0.9875\n",
      "Epoch 97/100\n",
      "16/16 [==============================] - 0s 3ms/step - loss: 0.0223 - accuracy: 0.9937\n",
      "Epoch 98/100\n",
      "16/16 [==============================] - 0s 3ms/step - loss: 0.0295 - accuracy: 0.9875\n",
      "Epoch 99/100\n",
      "16/16 [==============================] - 0s 3ms/step - loss: 0.0269 - accuracy: 0.9875\n",
      "Epoch 100/100\n",
      "16/16 [==============================] - 0s 3ms/step - loss: 0.0239 - accuracy: 0.9937\n"
     ]
    },
    {
     "data": {
      "text/plain": [
       "<keras.callbacks.History at 0x1e804807010>"
      ]
     },
     "execution_count": 54,
     "metadata": {},
     "output_type": "execute_result"
    }
   ],
   "source": [
    "#Training the model\n",
    "#model.fit(x_train, y_train, batch_size=32, epochs=50, verbose=1, validation_split=0.1)\n",
    "model.fit(x_train,y_train,batch_size=10,epochs=100)"
   ]
  },
  {
   "cell_type": "code",
   "execution_count": 55,
   "id": "5c8b412e",
   "metadata": {},
   "outputs": [
    {
     "data": {
      "text/plain": [
       "array([4, 0, 4, 3, 0, 0, 0, 4, 1, 4, 1, 4, 0, 1, 2, 0, 2, 4, 3, 0, 2, 4,\n",
       "       4, 0, 0, 0, 3, 4, 0, 4, 0, 3, 3, 0, 1, 0, 4, 1, 0, 1])"
      ]
     },
     "execution_count": 55,
     "metadata": {},
     "output_type": "execute_result"
    }
   ],
   "source": [
    "y_test"
   ]
  },
  {
   "cell_type": "code",
   "execution_count": 56,
   "id": "26b49648",
   "metadata": {},
   "outputs": [
    {
     "name": "stdout",
     "output_type": "stream",
     "text": [
      "Accuracy: 0.875\n"
     ]
    }
   ],
   "source": [
    "from sklearn.metrics import accuracy_score\n",
    "y_pred_classes = np.argmax(y_pred, axis=1)\n",
    "accuracy=accuracy_score(y_test,y_pred_classes)\n",
    "print('Accuracy:',accuracy)"
   ]
  },
  {
   "cell_type": "markdown",
   "id": "b8a4e633",
   "metadata": {},
   "source": [
    "# Checking on random data"
   ]
  },
  {
   "cell_type": "code",
   "execution_count": 57,
   "id": "1cfb1239",
   "metadata": {},
   "outputs": [
    {
     "name": "stdout",
     "output_type": "stream",
     "text": [
      "1/1 [==============================] - 0s 45ms/step\n",
      "Predicted Drug: DrugY\n"
     ]
    }
   ],
   "source": [
    "import numpy as np\n",
    "from sklearn.preprocessing import LabelEncoder\n",
    "y_p = model.predict((scaler.transform([[61,\t0,\t1,\t0,\t18.043]])))\n",
    "\n",
    "predicted_class = np.argmax(y_p)\n",
    "predicted_drug = le.inverse_transform([predicted_class])[0]  #inversing the Standard Scaling\n",
    "\n",
    "print(\"Predicted Drug:\", predicted_drug)"
   ]
  },
  {
   "cell_type": "code",
   "execution_count": null,
   "id": "04283127",
   "metadata": {},
   "outputs": [],
   "source": []
  }
 ],
 "metadata": {
  "kernelspec": {
   "display_name": "Python 3 (ipykernel)",
   "language": "python",
   "name": "python3"
  },
  "language_info": {
   "codemirror_mode": {
    "name": "ipython",
    "version": 3
   },
   "file_extension": ".py",
   "mimetype": "text/x-python",
   "name": "python",
   "nbconvert_exporter": "python",
   "pygments_lexer": "ipython3",
   "version": "3.10.0"
  }
 },
 "nbformat": 4,
 "nbformat_minor": 5
}
