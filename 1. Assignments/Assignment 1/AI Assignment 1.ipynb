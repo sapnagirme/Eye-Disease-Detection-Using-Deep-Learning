{
 "cells": [
  {
   "cell_type": "markdown",
   "metadata": {},
   "source": [
    "#### Student Name : Sapna Girme"
   ]
  },
  {
   "cell_type": "markdown",
   "metadata": {
    "id": "rwolh03_4gdR"
   },
   "source": [
    "**AI ASSIGNMENT 1**\n",
    "\n",
    "\n",
    "\n",
    "\n"
   ]
  },
  {
   "cell_type": "markdown",
   "metadata": {
    "id": "0qEHtvtK6Tke"
   },
   "source": [
    "### 1. Write a python Program to display the last digit of number(hint: Any number divide by 10 will return last digit)"
   ]
  },
  {
   "cell_type": "code",
   "execution_count": 2,
   "metadata": {
    "colab": {
     "base_uri": "https://localhost:8080/"
    },
    "id": "-nWwl4fDRp8N",
    "outputId": "ee2acae7-aa07-4ce8-9d76-eba9f231d500"
   },
   "outputs": [
    {
     "name": "stdout",
     "output_type": "stream",
     "text": [
      "Enter a Number 876\n",
      "last digit of 876 is  6\n"
     ]
    }
   ],
   "source": [
    "a=int(input(\"Enter a Number \"))\n",
    "b=a%10\n",
    "print('last digit of',a,'is ',b)"
   ]
  },
  {
   "cell_type": "markdown",
   "metadata": {
    "id": "heU4XmV16VkJ"
   },
   "source": [
    "### 2. Write a function to Calculate Area and Perimeter of Rectangle"
   ]
  },
  {
   "cell_type": "code",
   "execution_count": 3,
   "metadata": {
    "colab": {
     "base_uri": "https://localhost:8080/"
    },
    "id": "1jCzrX37TFOK",
    "outputId": "c0df4c5e-163e-4ee0-8071-84597f8115a1"
   },
   "outputs": [
    {
     "name": "stdout",
     "output_type": "stream",
     "text": [
      "Enter a length of rectangle 6\n",
      "Enter a breadth of rectangle 6\n",
      "Area Of Rectangle  36\n",
      "Perimeter of Rectangle  72\n"
     ]
    }
   ],
   "source": [
    "def rectangle(a,b):\n",
    "  area=a*b\n",
    "  perimeter=2*a*b\n",
    "  print(\"Area Of Rectangle \",area)\n",
    "  print(\"Perimeter of Rectangle \",perimeter)\n",
    "a=int(input(\"Enter a length of rectangle \"))\n",
    "b=int(input(\"Enter a breadth of rectangle \"))\n",
    "rectangle(a,b)"
   ]
  },
  {
   "cell_type": "markdown",
   "metadata": {
    "id": "Wqp4d9mQ6aRq"
   },
   "source": [
    "### 3. Write a python Program to find out given No is Prime or Not."
   ]
  },
  {
   "cell_type": "code",
   "execution_count": 4,
   "metadata": {
    "colab": {
     "base_uri": "https://localhost:8080/"
    },
    "id": "lJPgG2GCKjUx",
    "outputId": "9b41f36f-9f52-4dc1-9c3a-f66c12ac00b3"
   },
   "outputs": [
    {
     "name": "stdout",
     "output_type": "stream",
     "text": [
      "Enter a Number 78\n",
      "78 is not a prime number\n"
     ]
    }
   ],
   "source": [
    "num= int(input(\"Enter a Number \"))\n",
    "if num > 1:\n",
    "    for i in range(2, int(num/2)+1):\n",
    "        if (num % i) == 0:\n",
    "            print(num, \"is not a prime number\")\n",
    "            break\n",
    "    else:\n",
    "        print(num, \"is a prime number\")\n",
    "else:\n",
    "    print(num, \"is not a prime number\")"
   ]
  },
  {
   "cell_type": "markdown",
   "metadata": {
    "id": "Sj-3sBDF6l7Z"
   },
   "source": [
    "### 4. Write a Python program that prompts the user to input three numbers and then determines and prints the largest among them."
   ]
  },
  {
   "cell_type": "code",
   "execution_count": 5,
   "metadata": {
    "colab": {
     "base_uri": "https://localhost:8080/"
    },
    "id": "PydieSoiKkTE",
    "outputId": "10d538ab-0a77-4939-b5a2-174ce835f05f"
   },
   "outputs": [
    {
     "name": "stdout",
     "output_type": "stream",
     "text": [
      "Enter a 1st Number 56\n",
      "Enter a 2nd Number 77\n",
      "Enter a 3rd Number 44\n",
      "77 is largest number\n"
     ]
    }
   ],
   "source": [
    "a= int(input(\"Enter a 1st Number \"))\n",
    "b= int(input(\"Enter a 2nd Number \"))\n",
    "c= int(input(\"Enter a 3rd Number \"))\n",
    "if(a>=b and a>=c):\n",
    "  print(a,\"is largest Number\")\n",
    "elif(b>=a and b>=c):\n",
    "  print(b,'is largest number')\n",
    "else:\n",
    "  print(c,'is largest number')"
   ]
  },
  {
   "cell_type": "markdown",
   "metadata": {
    "id": "FOIyQFuq6n4Y"
   },
   "source": [
    "### 5. Write a Python program to calculate electricity bill (accept no of unit from user) according to following criteria: Unit Price First 100 units  no charge Next 100 units Rs 5 per Unit After 200 Units Rs 10 per Unit (For Example if input unit is 350 then total bill amount is 2000)"
   ]
  },
  {
   "cell_type": "code",
   "execution_count": 6,
   "metadata": {
    "colab": {
     "base_uri": "https://localhost:8080/"
    },
    "id": "1EDAiNq-tPZ5",
    "outputId": "6cdb6383-9c9b-4818-bee3-8d9fc2d72dc9"
   },
   "outputs": [
    {
     "name": "stdout",
     "output_type": "stream",
     "text": [
      "Enter Unit: 700\n",
      "total cost for 700 is 5500\n"
     ]
    }
   ],
   "source": [
    "units=int(input('Enter Unit: '))\n",
    "cost=0\n",
    "if units <=100:\n",
    "  print('No Charge')\n",
    "elif units>100 and units<=200:\n",
    "  cost = (units - 100)*5\n",
    "  print('total cost for',units,'is',cost)\n",
    "else:\n",
    "  units>200\n",
    "  cost=(units-200)*10\n",
    "  print('total cost for',units,'is',cost+500)"
   ]
  },
  {
   "cell_type": "markdown",
   "metadata": {
    "id": "GPchIstz6qf6"
   },
   "source": [
    "###  6. Write a program to accept numbers from 1-7 and display name of day like- 1 for sunday, 2 for Monday and so on."
   ]
  },
  {
   "cell_type": "code",
   "execution_count": 7,
   "metadata": {
    "colab": {
     "base_uri": "https://localhost:8080/"
    },
    "id": "JtYNKstTKlzo",
    "outputId": "43216cbc-59d4-4253-cfca-f4fef47a5cc8"
   },
   "outputs": [
    {
     "name": "stdout",
     "output_type": "stream",
     "text": [
      "Enter Number From 1 to 7: 5\n",
      "Thursday\n"
     ]
    }
   ],
   "source": [
    "a=int(input(\"Enter Number From 1 to 7: \"))\n",
    "if a==1:\n",
    "  print(\"Sunday\")\n",
    "elif a==2:\n",
    "  print(\"Monday\")\n",
    "elif a==3:\n",
    "  print(\"Tuesday\")\n",
    "elif a==4:\n",
    "  print(\"Wednesday\")\n",
    "elif a==5:\n",
    "  print(\"Thursday\")\n",
    "elif a==6:\n",
    "  print(\"Friday\")\n",
    "elif a==7:\n",
    "  print(\"Saturday\")\n",
    "else:\n",
    "  print('plz enter correct digit between 1 to 7')"
   ]
  },
  {
   "cell_type": "markdown",
   "metadata": {
    "id": "YBu4Q-t-6tuS"
   },
   "source": [
    "### 7. Write a python program to check given word is Palindrome or not"
   ]
  },
  {
   "cell_type": "code",
   "execution_count": 9,
   "metadata": {
    "colab": {
     "base_uri": "https://localhost:8080/"
    },
    "id": "bUHpIAKRKmqD",
    "outputId": "66bbead8-9f20-4524-ceb6-7bd36ca7c6db"
   },
   "outputs": [
    {
     "name": "stdout",
     "output_type": "stream",
     "text": [
      "Enter word: hello\n",
      "The word isn't a palindrome\n"
     ]
    }
   ],
   "source": [
    "word=input(\"Enter word: \")\n",
    "if(word==word[::-1]):\n",
    "      print(\"The word is a palindrome\")\n",
    "else:\n",
    "      print(\"The word isn't a palindrome\")"
   ]
  },
  {
   "cell_type": "markdown",
   "metadata": {
    "id": "jOxjIpQI6vig"
   },
   "source": [
    "### 8. Download the Dataset- https://www.kaggle.com/datasets/mohamedafsal007/house-price-dataset-of-india Load the dataset."
   ]
  },
  {
   "cell_type": "code",
   "execution_count": 10,
   "metadata": {
    "id": "FdAyHDfVKnXh"
   },
   "outputs": [],
   "source": [
    "import pandas as pd\n",
    "df=pd.read_csv(\"House Price India.csv\")"
   ]
  },
  {
   "cell_type": "code",
   "execution_count": 11,
   "metadata": {
    "colab": {
     "base_uri": "https://localhost:8080/"
    },
    "id": "OaA--L0qG2qx",
    "outputId": "a63db5cc-6ff4-44cd-cd20-c00defba63b6"
   },
   "outputs": [
    {
     "data": {
      "text/plain": [
       "(14620, 23)"
      ]
     },
     "execution_count": 11,
     "metadata": {},
     "output_type": "execute_result"
    }
   ],
   "source": [
    "# to know the shape of dataset\n",
    "df.shape"
   ]
  },
  {
   "cell_type": "code",
   "execution_count": 12,
   "metadata": {
    "colab": {
     "base_uri": "https://localhost:8080/",
     "height": 307
    },
    "id": "6YwViCjxu--Q",
    "outputId": "d814d27e-0e3f-4570-bf98-db99224fa635"
   },
   "outputs": [
    {
     "data": {
      "text/html": [
       "<div>\n",
       "<style scoped>\n",
       "    .dataframe tbody tr th:only-of-type {\n",
       "        vertical-align: middle;\n",
       "    }\n",
       "\n",
       "    .dataframe tbody tr th {\n",
       "        vertical-align: top;\n",
       "    }\n",
       "\n",
       "    .dataframe thead th {\n",
       "        text-align: right;\n",
       "    }\n",
       "</style>\n",
       "<table border=\"1\" class=\"dataframe\">\n",
       "  <thead>\n",
       "    <tr style=\"text-align: right;\">\n",
       "      <th></th>\n",
       "      <th>id</th>\n",
       "      <th>Date</th>\n",
       "      <th>number of bedrooms</th>\n",
       "      <th>number of bathrooms</th>\n",
       "      <th>living area</th>\n",
       "      <th>lot area</th>\n",
       "      <th>number of floors</th>\n",
       "      <th>waterfront present</th>\n",
       "      <th>number of views</th>\n",
       "      <th>condition of the house</th>\n",
       "      <th>...</th>\n",
       "      <th>Built Year</th>\n",
       "      <th>Renovation Year</th>\n",
       "      <th>Postal Code</th>\n",
       "      <th>Lattitude</th>\n",
       "      <th>Longitude</th>\n",
       "      <th>living_area_renov</th>\n",
       "      <th>lot_area_renov</th>\n",
       "      <th>Number of schools nearby</th>\n",
       "      <th>Distance from the airport</th>\n",
       "      <th>Price</th>\n",
       "    </tr>\n",
       "  </thead>\n",
       "  <tbody>\n",
       "    <tr>\n",
       "      <th>0</th>\n",
       "      <td>6762810145</td>\n",
       "      <td>42491</td>\n",
       "      <td>5</td>\n",
       "      <td>2.50</td>\n",
       "      <td>3650</td>\n",
       "      <td>9050</td>\n",
       "      <td>2.0</td>\n",
       "      <td>0</td>\n",
       "      <td>4</td>\n",
       "      <td>5</td>\n",
       "      <td>...</td>\n",
       "      <td>1921</td>\n",
       "      <td>0</td>\n",
       "      <td>122003</td>\n",
       "      <td>52.8645</td>\n",
       "      <td>-114.557</td>\n",
       "      <td>2880</td>\n",
       "      <td>5400</td>\n",
       "      <td>2</td>\n",
       "      <td>58</td>\n",
       "      <td>2380000</td>\n",
       "    </tr>\n",
       "    <tr>\n",
       "      <th>1</th>\n",
       "      <td>6762810635</td>\n",
       "      <td>42491</td>\n",
       "      <td>4</td>\n",
       "      <td>2.50</td>\n",
       "      <td>2920</td>\n",
       "      <td>4000</td>\n",
       "      <td>1.5</td>\n",
       "      <td>0</td>\n",
       "      <td>0</td>\n",
       "      <td>5</td>\n",
       "      <td>...</td>\n",
       "      <td>1909</td>\n",
       "      <td>0</td>\n",
       "      <td>122004</td>\n",
       "      <td>52.8878</td>\n",
       "      <td>-114.470</td>\n",
       "      <td>2470</td>\n",
       "      <td>4000</td>\n",
       "      <td>2</td>\n",
       "      <td>51</td>\n",
       "      <td>1400000</td>\n",
       "    </tr>\n",
       "    <tr>\n",
       "      <th>2</th>\n",
       "      <td>6762810998</td>\n",
       "      <td>42491</td>\n",
       "      <td>5</td>\n",
       "      <td>2.75</td>\n",
       "      <td>2910</td>\n",
       "      <td>9480</td>\n",
       "      <td>1.5</td>\n",
       "      <td>0</td>\n",
       "      <td>0</td>\n",
       "      <td>3</td>\n",
       "      <td>...</td>\n",
       "      <td>1939</td>\n",
       "      <td>0</td>\n",
       "      <td>122004</td>\n",
       "      <td>52.8852</td>\n",
       "      <td>-114.468</td>\n",
       "      <td>2940</td>\n",
       "      <td>6600</td>\n",
       "      <td>1</td>\n",
       "      <td>53</td>\n",
       "      <td>1200000</td>\n",
       "    </tr>\n",
       "    <tr>\n",
       "      <th>3</th>\n",
       "      <td>6762812605</td>\n",
       "      <td>42491</td>\n",
       "      <td>4</td>\n",
       "      <td>2.50</td>\n",
       "      <td>3310</td>\n",
       "      <td>42998</td>\n",
       "      <td>2.0</td>\n",
       "      <td>0</td>\n",
       "      <td>0</td>\n",
       "      <td>3</td>\n",
       "      <td>...</td>\n",
       "      <td>2001</td>\n",
       "      <td>0</td>\n",
       "      <td>122005</td>\n",
       "      <td>52.9532</td>\n",
       "      <td>-114.321</td>\n",
       "      <td>3350</td>\n",
       "      <td>42847</td>\n",
       "      <td>3</td>\n",
       "      <td>76</td>\n",
       "      <td>838000</td>\n",
       "    </tr>\n",
       "    <tr>\n",
       "      <th>4</th>\n",
       "      <td>6762812919</td>\n",
       "      <td>42491</td>\n",
       "      <td>3</td>\n",
       "      <td>2.00</td>\n",
       "      <td>2710</td>\n",
       "      <td>4500</td>\n",
       "      <td>1.5</td>\n",
       "      <td>0</td>\n",
       "      <td>0</td>\n",
       "      <td>4</td>\n",
       "      <td>...</td>\n",
       "      <td>1929</td>\n",
       "      <td>0</td>\n",
       "      <td>122006</td>\n",
       "      <td>52.9047</td>\n",
       "      <td>-114.485</td>\n",
       "      <td>2060</td>\n",
       "      <td>4500</td>\n",
       "      <td>1</td>\n",
       "      <td>51</td>\n",
       "      <td>805000</td>\n",
       "    </tr>\n",
       "  </tbody>\n",
       "</table>\n",
       "<p>5 rows × 23 columns</p>\n",
       "</div>"
      ],
      "text/plain": [
       "           id   Date  number of bedrooms  number of bathrooms  living area  \\\n",
       "0  6762810145  42491                   5                 2.50         3650   \n",
       "1  6762810635  42491                   4                 2.50         2920   \n",
       "2  6762810998  42491                   5                 2.75         2910   \n",
       "3  6762812605  42491                   4                 2.50         3310   \n",
       "4  6762812919  42491                   3                 2.00         2710   \n",
       "\n",
       "   lot area  number of floors  waterfront present  number of views  \\\n",
       "0      9050               2.0                   0                4   \n",
       "1      4000               1.5                   0                0   \n",
       "2      9480               1.5                   0                0   \n",
       "3     42998               2.0                   0                0   \n",
       "4      4500               1.5                   0                0   \n",
       "\n",
       "   condition of the house  ...  Built Year  Renovation Year  Postal Code  \\\n",
       "0                       5  ...        1921                0       122003   \n",
       "1                       5  ...        1909                0       122004   \n",
       "2                       3  ...        1939                0       122004   \n",
       "3                       3  ...        2001                0       122005   \n",
       "4                       4  ...        1929                0       122006   \n",
       "\n",
       "   Lattitude  Longitude  living_area_renov  lot_area_renov  \\\n",
       "0    52.8645   -114.557               2880            5400   \n",
       "1    52.8878   -114.470               2470            4000   \n",
       "2    52.8852   -114.468               2940            6600   \n",
       "3    52.9532   -114.321               3350           42847   \n",
       "4    52.9047   -114.485               2060            4500   \n",
       "\n",
       "   Number of schools nearby  Distance from the airport    Price  \n",
       "0                         2                         58  2380000  \n",
       "1                         2                         51  1400000  \n",
       "2                         1                         53  1200000  \n",
       "3                         3                         76   838000  \n",
       "4                         1                         51   805000  \n",
       "\n",
       "[5 rows x 23 columns]"
      ]
     },
     "execution_count": 12,
     "metadata": {},
     "output_type": "execute_result"
    }
   ],
   "source": [
    "#to print first 5 rows\n",
    "df.head()"
   ]
  },
  {
   "cell_type": "code",
   "execution_count": 13,
   "metadata": {
    "colab": {
     "base_uri": "https://localhost:8080/"
    },
    "id": "a-NV-kWNGfO6",
    "outputId": "d5daf51b-a91f-4bcb-86f5-ce80af7d54b4"
   },
   "outputs": [
    {
     "name": "stdout",
     "output_type": "stream",
     "text": [
      "<class 'pandas.core.frame.DataFrame'>\n",
      "RangeIndex: 14620 entries, 0 to 14619\n",
      "Data columns (total 23 columns):\n",
      " #   Column                                 Non-Null Count  Dtype  \n",
      "---  ------                                 --------------  -----  \n",
      " 0   id                                     14620 non-null  int64  \n",
      " 1   Date                                   14620 non-null  int64  \n",
      " 2   number of bedrooms                     14620 non-null  int64  \n",
      " 3   number of bathrooms                    14620 non-null  float64\n",
      " 4   living area                            14620 non-null  int64  \n",
      " 5   lot area                               14620 non-null  int64  \n",
      " 6   number of floors                       14620 non-null  float64\n",
      " 7   waterfront present                     14620 non-null  int64  \n",
      " 8   number of views                        14620 non-null  int64  \n",
      " 9   condition of the house                 14620 non-null  int64  \n",
      " 10  grade of the house                     14620 non-null  int64  \n",
      " 11  Area of the house(excluding basement)  14620 non-null  int64  \n",
      " 12  Area of the basement                   14620 non-null  int64  \n",
      " 13  Built Year                             14620 non-null  int64  \n",
      " 14  Renovation Year                        14620 non-null  int64  \n",
      " 15  Postal Code                            14620 non-null  int64  \n",
      " 16  Lattitude                              14620 non-null  float64\n",
      " 17  Longitude                              14620 non-null  float64\n",
      " 18  living_area_renov                      14620 non-null  int64  \n",
      " 19  lot_area_renov                         14620 non-null  int64  \n",
      " 20  Number of schools nearby               14620 non-null  int64  \n",
      " 21  Distance from the airport              14620 non-null  int64  \n",
      " 22  Price                                  14620 non-null  int64  \n",
      "dtypes: float64(4), int64(19)\n",
      "memory usage: 2.6 MB\n"
     ]
    }
   ],
   "source": [
    "#To get the information of the dataset\n",
    "df.info()"
   ]
  },
  {
   "cell_type": "code",
   "execution_count": 14,
   "metadata": {},
   "outputs": [
    {
     "data": {
      "text/plain": [
       "id                                       0\n",
       "Date                                     0\n",
       "number of bedrooms                       0\n",
       "number of bathrooms                      0\n",
       "living area                              0\n",
       "lot area                                 0\n",
       "number of floors                         0\n",
       "waterfront present                       0\n",
       "number of views                          0\n",
       "condition of the house                   0\n",
       "grade of the house                       0\n",
       "Area of the house(excluding basement)    0\n",
       "Area of the basement                     0\n",
       "Built Year                               0\n",
       "Renovation Year                          0\n",
       "Postal Code                              0\n",
       "Lattitude                                0\n",
       "Longitude                                0\n",
       "living_area_renov                        0\n",
       "lot_area_renov                           0\n",
       "Number of schools nearby                 0\n",
       "Distance from the airport                0\n",
       "Price                                    0\n",
       "dtype: int64"
      ]
     },
     "execution_count": 14,
     "metadata": {},
     "output_type": "execute_result"
    }
   ],
   "source": [
    "# To check if there are any null values\n",
    "df.isnull().sum()"
   ]
  },
  {
   "cell_type": "markdown",
   "metadata": {
    "id": "DAK97Oan6x9g"
   },
   "source": [
    "### 9. Perform Univariate Analysis"
   ]
  },
  {
   "cell_type": "code",
   "execution_count": 15,
   "metadata": {
    "colab": {
     "base_uri": "https://localhost:8080/",
     "height": 703
    },
    "id": "MVclJjUgJF71",
    "outputId": "6c4d02c2-d049-40ac-da1c-5fe7deb3185a"
   },
   "outputs": [
    {
     "data": {
      "text/plain": [
       "(array([0.5, 1. , 1.5, 2. , 2.5, 3. , 3.5, 4. ]),\n",
       " [Text(0.5, 0, '0.5'),\n",
       "  Text(1.0, 0, '1.0'),\n",
       "  Text(1.5, 0, '1.5'),\n",
       "  Text(2.0, 0, '2.0'),\n",
       "  Text(2.5, 0, '2.5'),\n",
       "  Text(3.0, 0, '3.0'),\n",
       "  Text(3.5, 0, '3.5'),\n",
       "  Text(4.0, 0, '4.0')])"
      ]
     },
     "execution_count": 15,
     "metadata": {},
     "output_type": "execute_result"
    },
    {
     "data": {
      "image/png": "[encoded data removed]",
      "text/plain": [
       "<Figure size 640x480 with 1 Axes>"
      ]
     },
     "metadata": {},
     "output_type": "display_data"
    }
   ],
   "source": [
    "import matplotlib.pyplot as plt\n",
    "plt.ticklabel_format(style='plain')\n",
    "plt.hist(df['number of floors'],color=\"Pink\", edgecolor='black')\n",
    "plt.xticks(rotation=90)"
   ]
  },
  {
   "cell_type": "code",
   "execution_count": 16,
   "metadata": {},
   "outputs": [
    {
     "data": {
      "image/png": "[encoded data removed]",
      "text/plain": [
       "<Figure size 640x480 with 1 Axes>"
      ]
     },
     "metadata": {},
     "output_type": "display_data"
    }
   ],
   "source": [
    "plt.hist(df['Built Year'], bins=range(1900, 2021, 10), color=\"Lightblue\", edgecolor='black')\n",
    "plt.xlabel('House Built Year')\n",
    "plt.ylabel('Count of Houses')\n",
    "plt.title('Distribution of Built Year of Houses')\n",
    "plt.grid()"
   ]
  },
  {
   "cell_type": "markdown",
   "metadata": {},
   "source": [
    "#### We can see that most houses are built around year 2000."
   ]
  },
  {
   "cell_type": "code",
   "execution_count": 29,
   "metadata": {},
   "outputs": [
    {
     "data": {
      "image/png": "[encoded data removed]",
      "text/plain": [
       "<Figure size 800x600 with 1 Axes>"
      ]
     },
     "metadata": {},
     "output_type": "display_data"
    }
   ],
   "source": [
    "import seaborn as sns\n",
    "# Distribution of Living Area\n",
    "plt.figure(figsize=(8, 6))\n",
    "sns.histplot(data=df, x='living area',binwidth=500,color=\"Pink\", edgecolor='black')\n",
    "plt.title('Histogram of Living Area')\n",
    "plt.xlabel('Living Area')\n",
    "plt.ylabel('Frequency')\n",
    "plt.show()"
   ]
  },
  {
   "cell_type": "markdown",
   "metadata": {
    "id": "zUXt-neR60sH"
   },
   "source": [
    "### 10. Perform Bivariate Analysis"
   ]
  },
  {
   "cell_type": "code",
   "execution_count": 19,
   "metadata": {
    "colab": {
     "base_uri": "https://localhost:8080/",
     "height": 703
    },
    "id": "EW0hN5NHLF4w",
    "outputId": "1b102420-e448-4232-a90d-2de155aebd28"
   },
   "outputs": [
    {
     "data": {
      "text/plain": [
       "(array([-1000000.,        0.,  1000000.,  2000000.,  3000000.,  4000000.,\n",
       "         5000000.,  6000000.,  7000000.,  8000000.,  9000000.]),\n",
       " [Text(-1000000.0, 0, '−1000000'),\n",
       "  Text(0.0, 0, '0'),\n",
       "  Text(1000000.0, 0, '1000000'),\n",
       "  Text(2000000.0, 0, '2000000'),\n",
       "  Text(3000000.0, 0, '3000000'),\n",
       "  Text(4000000.0, 0, '4000000'),\n",
       "  Text(5000000.0, 0, '5000000'),\n",
       "  Text(6000000.0, 0, '6000000'),\n",
       "  Text(7000000.0, 0, '7000000'),\n",
       "  Text(8000000.0, 0, '8000000'),\n",
       "  Text(9000000.0, 0, '9000000')])"
      ]
     },
     "execution_count": 19,
     "metadata": {},
     "output_type": "execute_result"
    },
    {
     "data": {
      "image/png": "[encoded data removed]",
      "text/plain": [
       "<Figure size 640x480 with 1 Axes>"
      ]
     },
     "metadata": {},
     "output_type": "display_data"
    }
   ],
   "source": [
    "plt.ticklabel_format(style='plain')\n",
    "plt.scatter(df['Price'],df['number of bedrooms'])\n",
    "plt.xticks(rotation=90)"
   ]
  },
  {
   "cell_type": "code",
   "execution_count": 40,
   "metadata": {},
   "outputs": [
    {
     "data": {
      "text/plain": [
       "Text(0.5, 1.0, 'Line Plot for Condition of house and Price')"
      ]
     },
     "execution_count": 40,
     "metadata": {},
     "output_type": "execute_result"
    },
    {
     "data": {
      "image/png": "[encoded data removed]",
      "text/plain": [
       "<Figure size 640x480 with 1 Axes>"
      ]
     },
     "metadata": {},
     "output_type": "display_data"
    }
   ],
   "source": [
    "sns.lineplot(x = df['condition of the house'],y = df['Price'],color='red')\n",
    "plt.ticklabel_format(style='plain')\n",
    "plt.title('Line Plot for Condition of house and Price')"
   ]
  },
  {
   "cell_type": "markdown",
   "metadata": {},
   "source": [
    "#### We could see that as the condition of house increases the price of the house is increasing as well"
   ]
  },
  {
   "cell_type": "code",
   "execution_count": 48,
   "metadata": {},
   "outputs": [
    {
     "data": {
      "text/plain": [
       "<Axes: >"
      ]
     },
     "execution_count": 48,
     "metadata": {},
     "output_type": "execute_result"
    },
    {
     "data": {
      "image/png": "[encoded data removed]",
      "text/plain": [
       "<Figure size 640x480 with 2 Axes>"
      ]
     },
     "metadata": {},
     "output_type": "display_data"
    }
   ],
   "source": [
    "# Multi-Variate Analysis \n",
    "cols = ['Price','number of bedrooms', 'number of floors', 'number of views','number of bathrooms', 'Number of schools nearby']\n",
    "selected_data = df[cols]\n",
    "hm = selected_data.corr()\n",
    "sns.heatmap(hm, annot=True,cmap='coolwarm')"
   ]
  },
  {
   "cell_type": "markdown",
   "metadata": {
    "id": "yk7oDlSC62_E"
   },
   "source": [
    "### 11. Perform Descriptive Statistics"
   ]
  },
  {
   "cell_type": "code",
   "execution_count": 49,
   "metadata": {
    "colab": {
     "base_uri": "https://localhost:8080/",
     "height": 384
    },
    "id": "Z4zjJleO66IH",
    "outputId": "ba0a08a6-4069-467c-cdb6-0e8cc8b7344e"
   },
   "outputs": [
    {
     "data": {
      "text/html": [
       "<div>\n",
       "<style scoped>\n",
       "    .dataframe tbody tr th:only-of-type {\n",
       "        vertical-align: middle;\n",
       "    }\n",
       "\n",
       "    .dataframe tbody tr th {\n",
       "        vertical-align: top;\n",
       "    }\n",
       "\n",
       "    .dataframe thead th {\n",
       "        text-align: right;\n",
       "    }\n",
       "</style>\n",
       "<table border=\"1\" class=\"dataframe\">\n",
       "  <thead>\n",
       "    <tr style=\"text-align: right;\">\n",
       "      <th></th>\n",
       "      <th>id</th>\n",
       "      <th>Date</th>\n",
       "      <th>number of bedrooms</th>\n",
       "      <th>number of bathrooms</th>\n",
       "      <th>living area</th>\n",
       "      <th>lot area</th>\n",
       "      <th>number of floors</th>\n",
       "      <th>waterfront present</th>\n",
       "      <th>number of views</th>\n",
       "      <th>condition of the house</th>\n",
       "      <th>...</th>\n",
       "      <th>Built Year</th>\n",
       "      <th>Renovation Year</th>\n",
       "      <th>Postal Code</th>\n",
       "      <th>Lattitude</th>\n",
       "      <th>Longitude</th>\n",
       "      <th>living_area_renov</th>\n",
       "      <th>lot_area_renov</th>\n",
       "      <th>Number of schools nearby</th>\n",
       "      <th>Distance from the airport</th>\n",
       "      <th>Price</th>\n",
       "    </tr>\n",
       "  </thead>\n",
       "  <tbody>\n",
       "    <tr>\n",
       "      <th>count</th>\n",
       "      <td>1.462000e+04</td>\n",
       "      <td>14620.000000</td>\n",
       "      <td>14620.000000</td>\n",
       "      <td>14620.000000</td>\n",
       "      <td>14620.000000</td>\n",
       "      <td>1.462000e+04</td>\n",
       "      <td>14620.000000</td>\n",
       "      <td>14620.000000</td>\n",
       "      <td>14620.000000</td>\n",
       "      <td>14620.000000</td>\n",
       "      <td>...</td>\n",
       "      <td>14620.000000</td>\n",
       "      <td>14620.000000</td>\n",
       "      <td>14620.000000</td>\n",
       "      <td>14620.000000</td>\n",
       "      <td>14620.000000</td>\n",
       "      <td>14620.000000</td>\n",
       "      <td>14620.000000</td>\n",
       "      <td>14620.000000</td>\n",
       "      <td>14620.000000</td>\n",
       "      <td>1.462000e+04</td>\n",
       "    </tr>\n",
       "    <tr>\n",
       "      <th>mean</th>\n",
       "      <td>6.762821e+09</td>\n",
       "      <td>42604.538646</td>\n",
       "      <td>3.379343</td>\n",
       "      <td>2.129583</td>\n",
       "      <td>2098.262996</td>\n",
       "      <td>1.509328e+04</td>\n",
       "      <td>1.502360</td>\n",
       "      <td>0.007661</td>\n",
       "      <td>0.233105</td>\n",
       "      <td>3.430506</td>\n",
       "      <td>...</td>\n",
       "      <td>1970.926402</td>\n",
       "      <td>90.924008</td>\n",
       "      <td>122033.062244</td>\n",
       "      <td>52.792848</td>\n",
       "      <td>-114.404007</td>\n",
       "      <td>1996.702257</td>\n",
       "      <td>12753.500068</td>\n",
       "      <td>2.012244</td>\n",
       "      <td>64.950958</td>\n",
       "      <td>5.389322e+05</td>\n",
       "    </tr>\n",
       "    <tr>\n",
       "      <th>std</th>\n",
       "      <td>6.237575e+03</td>\n",
       "      <td>67.347991</td>\n",
       "      <td>0.938719</td>\n",
       "      <td>0.769934</td>\n",
       "      <td>928.275721</td>\n",
       "      <td>3.791962e+04</td>\n",
       "      <td>0.540239</td>\n",
       "      <td>0.087193</td>\n",
       "      <td>0.766259</td>\n",
       "      <td>0.664151</td>\n",
       "      <td>...</td>\n",
       "      <td>29.493625</td>\n",
       "      <td>416.216661</td>\n",
       "      <td>19.082418</td>\n",
       "      <td>0.137522</td>\n",
       "      <td>0.141326</td>\n",
       "      <td>691.093366</td>\n",
       "      <td>26058.414467</td>\n",
       "      <td>0.817284</td>\n",
       "      <td>8.936008</td>\n",
       "      <td>3.675324e+05</td>\n",
       "    </tr>\n",
       "    <tr>\n",
       "      <th>min</th>\n",
       "      <td>6.762810e+09</td>\n",
       "      <td>42491.000000</td>\n",
       "      <td>1.000000</td>\n",
       "      <td>0.500000</td>\n",
       "      <td>370.000000</td>\n",
       "      <td>5.200000e+02</td>\n",
       "      <td>1.000000</td>\n",
       "      <td>0.000000</td>\n",
       "      <td>0.000000</td>\n",
       "      <td>1.000000</td>\n",
       "      <td>...</td>\n",
       "      <td>1900.000000</td>\n",
       "      <td>0.000000</td>\n",
       "      <td>122003.000000</td>\n",
       "      <td>52.385900</td>\n",
       "      <td>-114.709000</td>\n",
       "      <td>460.000000</td>\n",
       "      <td>651.000000</td>\n",
       "      <td>1.000000</td>\n",
       "      <td>50.000000</td>\n",
       "      <td>7.800000e+04</td>\n",
       "    </tr>\n",
       "    <tr>\n",
       "      <th>25%</th>\n",
       "      <td>6.762815e+09</td>\n",
       "      <td>42546.000000</td>\n",
       "      <td>3.000000</td>\n",
       "      <td>1.750000</td>\n",
       "      <td>1440.000000</td>\n",
       "      <td>5.010750e+03</td>\n",
       "      <td>1.000000</td>\n",
       "      <td>0.000000</td>\n",
       "      <td>0.000000</td>\n",
       "      <td>3.000000</td>\n",
       "      <td>...</td>\n",
       "      <td>1951.000000</td>\n",
       "      <td>0.000000</td>\n",
       "      <td>122017.000000</td>\n",
       "      <td>52.707600</td>\n",
       "      <td>-114.519000</td>\n",
       "      <td>1490.000000</td>\n",
       "      <td>5097.750000</td>\n",
       "      <td>1.000000</td>\n",
       "      <td>57.000000</td>\n",
       "      <td>3.200000e+05</td>\n",
       "    </tr>\n",
       "    <tr>\n",
       "      <th>50%</th>\n",
       "      <td>6.762821e+09</td>\n",
       "      <td>42600.000000</td>\n",
       "      <td>3.000000</td>\n",
       "      <td>2.250000</td>\n",
       "      <td>1930.000000</td>\n",
       "      <td>7.620000e+03</td>\n",
       "      <td>1.500000</td>\n",
       "      <td>0.000000</td>\n",
       "      <td>0.000000</td>\n",
       "      <td>3.000000</td>\n",
       "      <td>...</td>\n",
       "      <td>1975.000000</td>\n",
       "      <td>0.000000</td>\n",
       "      <td>122032.000000</td>\n",
       "      <td>52.806400</td>\n",
       "      <td>-114.421000</td>\n",
       "      <td>1850.000000</td>\n",
       "      <td>7620.000000</td>\n",
       "      <td>2.000000</td>\n",
       "      <td>65.000000</td>\n",
       "      <td>4.500000e+05</td>\n",
       "    </tr>\n",
       "    <tr>\n",
       "      <th>75%</th>\n",
       "      <td>6.762826e+09</td>\n",
       "      <td>42662.000000</td>\n",
       "      <td>4.000000</td>\n",
       "      <td>2.500000</td>\n",
       "      <td>2570.000000</td>\n",
       "      <td>1.080000e+04</td>\n",
       "      <td>2.000000</td>\n",
       "      <td>0.000000</td>\n",
       "      <td>0.000000</td>\n",
       "      <td>4.000000</td>\n",
       "      <td>...</td>\n",
       "      <td>1997.000000</td>\n",
       "      <td>0.000000</td>\n",
       "      <td>122048.000000</td>\n",
       "      <td>52.908900</td>\n",
       "      <td>-114.315000</td>\n",
       "      <td>2380.000000</td>\n",
       "      <td>10125.000000</td>\n",
       "      <td>3.000000</td>\n",
       "      <td>73.000000</td>\n",
       "      <td>6.450000e+05</td>\n",
       "    </tr>\n",
       "    <tr>\n",
       "      <th>max</th>\n",
       "      <td>6.762832e+09</td>\n",
       "      <td>42734.000000</td>\n",
       "      <td>33.000000</td>\n",
       "      <td>8.000000</td>\n",
       "      <td>13540.000000</td>\n",
       "      <td>1.074218e+06</td>\n",
       "      <td>3.500000</td>\n",
       "      <td>1.000000</td>\n",
       "      <td>4.000000</td>\n",
       "      <td>5.000000</td>\n",
       "      <td>...</td>\n",
       "      <td>2015.000000</td>\n",
       "      <td>2015.000000</td>\n",
       "      <td>122072.000000</td>\n",
       "      <td>53.007600</td>\n",
       "      <td>-113.505000</td>\n",
       "      <td>6110.000000</td>\n",
       "      <td>560617.000000</td>\n",
       "      <td>3.000000</td>\n",
       "      <td>80.000000</td>\n",
       "      <td>7.700000e+06</td>\n",
       "    </tr>\n",
       "  </tbody>\n",
       "</table>\n",
       "<p>8 rows × 23 columns</p>\n",
       "</div>"
      ],
      "text/plain": [
       "                 id          Date  number of bedrooms  number of bathrooms  \\\n",
       "count  1.462000e+04  14620.000000        14620.000000         14620.000000   \n",
       "mean   6.762821e+09  42604.538646            3.379343             2.129583   \n",
       "std    6.237575e+03     67.347991            0.938719             0.769934   \n",
       "min    6.762810e+09  42491.000000            1.000000             0.500000   \n",
       "25%    6.762815e+09  42546.000000            3.000000             1.750000   \n",
       "50%    6.762821e+09  42600.000000            3.000000             2.250000   \n",
       "75%    6.762826e+09  42662.000000            4.000000             2.500000   \n",
       "max    6.762832e+09  42734.000000           33.000000             8.000000   \n",
       "\n",
       "        living area      lot area  number of floors  waterfront present  \\\n",
       "count  14620.000000  1.462000e+04      14620.000000        14620.000000   \n",
       "mean    2098.262996  1.509328e+04          1.502360            0.007661   \n",
       "std      928.275721  3.791962e+04          0.540239            0.087193   \n",
       "min      370.000000  5.200000e+02          1.000000            0.000000   \n",
       "25%     1440.000000  5.010750e+03          1.000000            0.000000   \n",
       "50%     1930.000000  7.620000e+03          1.500000            0.000000   \n",
       "75%     2570.000000  1.080000e+04          2.000000            0.000000   \n",
       "max    13540.000000  1.074218e+06          3.500000            1.000000   \n",
       "\n",
       "       number of views  condition of the house  ...    Built Year  \\\n",
       "count     14620.000000            14620.000000  ...  14620.000000   \n",
       "mean          0.233105                3.430506  ...   1970.926402   \n",
       "std           0.766259                0.664151  ...     29.493625   \n",
       "min           0.000000                1.000000  ...   1900.000000   \n",
       "25%           0.000000                3.000000  ...   1951.000000   \n",
       "50%           0.000000                3.000000  ...   1975.000000   \n",
       "75%           0.000000                4.000000  ...   1997.000000   \n",
       "max           4.000000                5.000000  ...   2015.000000   \n",
       "\n",
       "       Renovation Year    Postal Code     Lattitude     Longitude  \\\n",
       "count     14620.000000   14620.000000  14620.000000  14620.000000   \n",
       "mean         90.924008  122033.062244     52.792848   -114.404007   \n",
       "std         416.216661      19.082418      0.137522      0.141326   \n",
       "min           0.000000  122003.000000     52.385900   -114.709000   \n",
       "25%           0.000000  122017.000000     52.707600   -114.519000   \n",
       "50%           0.000000  122032.000000     52.806400   -114.421000   \n",
       "75%           0.000000  122048.000000     52.908900   -114.315000   \n",
       "max        2015.000000  122072.000000     53.007600   -113.505000   \n",
       "\n",
       "       living_area_renov  lot_area_renov  Number of schools nearby  \\\n",
       "count       14620.000000    14620.000000              14620.000000   \n",
       "mean         1996.702257    12753.500068                  2.012244   \n",
       "std           691.093366    26058.414467                  0.817284   \n",
       "min           460.000000      651.000000                  1.000000   \n",
       "25%          1490.000000     5097.750000                  1.000000   \n",
       "50%          1850.000000     7620.000000                  2.000000   \n",
       "75%          2380.000000    10125.000000                  3.000000   \n",
       "max          6110.000000   560617.000000                  3.000000   \n",
       "\n",
       "       Distance from the airport         Price  \n",
       "count               14620.000000  1.462000e+04  \n",
       "mean                   64.950958  5.389322e+05  \n",
       "std                     8.936008  3.675324e+05  \n",
       "min                    50.000000  7.800000e+04  \n",
       "25%                    57.000000  3.200000e+05  \n",
       "50%                    65.000000  4.500000e+05  \n",
       "75%                    73.000000  6.450000e+05  \n",
       "max                    80.000000  7.700000e+06  \n",
       "\n",
       "[8 rows x 23 columns]"
      ]
     },
     "execution_count": 49,
     "metadata": {},
     "output_type": "execute_result"
    }
   ],
   "source": [
    "df.describe()"
   ]
  },
  {
   "cell_type": "code",
   "execution_count": 52,
   "metadata": {
    "id": "mXZ-9mzFkD_6"
   },
   "outputs": [
    {
     "data": {
      "text/plain": [
       "3.0"
      ]
     },
     "execution_count": 52,
     "metadata": {},
     "output_type": "execute_result"
    }
   ],
   "source": [
    "df['number of bedrooms'].median()"
   ]
  }
 ],
 "metadata": {
  "colab": {
   "provenance": []
  },
  "kernelspec": {
   "display_name": "Python 3 (ipykernel)",
   "language": "python",
   "name": "python3"
  },
  "language_info": {
   "codemirror_mode": {
    "name": "ipython",
    "version": 3
   },
   "file_extension": ".py",
   "mimetype": "text/x-python",
   "name": "python",
   "nbconvert_exporter": "python",
   "pygments_lexer": "ipython3",
   "version": "3.10.0"
  }
 },
 "nbformat": 4,
 "nbformat_minor": 1
}
